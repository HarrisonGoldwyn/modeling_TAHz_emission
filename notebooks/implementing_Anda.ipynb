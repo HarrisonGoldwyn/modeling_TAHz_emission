{
 "cells": [
  {
   "cell_type": "code",
   "execution_count": 2,
   "metadata": {},
   "outputs": [],
   "source": [
    "import numpy as np\n",
    "\n",
    "import matplotlib.pyplot as plt\n",
    "\n",
    "\n",
    "import scipy.linalg as lin\n",
    "import scipy.special as spl\n",
    "import scipy.integrate as inte\n",
    "\n",
    "## Get physical constants from Scipy\n",
    "import scipy.constants as con\n",
    "## Some useful numerical constants\n",
    "hbar = con.physical_constants['Planck constant over 2 pi in eV s'][0]\n",
    "c = con.physical_constants['speed of light in vacuum'][0]*1e2 #cm/m\n",
    "k = con.physical_constants['Boltzmann constant in eV/K'][0]"
   ]
  },
  {
   "cell_type": "code",
   "execution_count": 3,
   "metadata": {},
   "outputs": [],
   "source": [
    "def position_operator(basis_size):\n",
    "    \"\"\" Returns matrix representation of the position operator in the \n",
    "        basis of number states. Truncated at dimension 'basis size'. \n",
    "        \"\"\"\n",
    "    x = np.zeros((basis_size, basis_size))\n",
    "    for n in range(basis_size-1):\n",
    "        x[n, n+1] = 1/2**0.5 * np.sqrt(n+1)\n",
    "        x[n+1, n] = 1/2**0.5 * np.sqrt(n+1)\n",
    "    return x"
   ]
  },
  {
   "cell_type": "code",
   "execution_count": 4,
   "metadata": {},
   "outputs": [],
   "source": [
    "def x_tothe_k(k, basis_size):\n",
    "    x = position_operator(basis_size)\n",
    "    return np.linalg.matrix_power(x, k)"
   ]
  },
  {
   "cell_type": "code",
   "execution_count": 5,
   "metadata": {},
   "outputs": [],
   "source": [
    "def ham_g(basis_size, lambda_array):\n",
    "    \"\"\" Returns matrix representation of (unitless) nuclear Hamiltonian \n",
    "        in the electronic ground state for the general anharmonic \n",
    "        oscillator truncated at dimension 'basis_size'. \n",
    "        \n",
    "        The arg 'lambda_array' is expected to be 1D and contains the \n",
    "        scalar prefactors at each order of the polynomial potential \n",
    "        energy surface. The potential is therefore a polynomial of order \n",
    "        len(lambda_array) + 1.\n",
    "        \"\"\"\n",
    "    H_prime = np.zeros((basis_size, basis_size)) \n",
    "    ## Define unperterbed harmonic hamiltonian \n",
    "    H_0 = np.diag(np.arange(0, basis_size))\n",
    "    \n",
    "    poly_order_plus_1 = len(lambda_array)\n",
    "    for order in range(poly_order_plus_1):\n",
    "        H_prime += lambda_array[order]*x_tothe_k(order, basis_size)\n",
    "            \n",
    "    H_g = H_0 + H_prime\n",
    "    return H_g\n",
    "\n",
    "def displaced_ham_e(H_g, zp_energy, d):\n",
    "    \"\"\" Returns matrix representation of (unitless) nuclear Hamiltonian \n",
    "        in the electronic ground state for the general anharmonic \n",
    "        oscillator truncated at dimension 'basis_size'. \n",
    "        \n",
    "        The arg 'lambda_array' is expected to be 1D and contains the \n",
    "        scalar prefactors at each order of the polynomial potential \n",
    "        energy surface. The potential is therefore a polynomial of order \n",
    "        len(lambda_array) + 1.\n",
    "        \"\"\" \n",
    "    basis_size = H_g.shape[0]\n",
    "    a = np.zeros((basis_size, basis_size))\n",
    "    for n in range(basis_size-1):\n",
    "        a[n, n+1] = np.sqrt(n+1)\n",
    "    displacement_op = lin.expm(d*a.T - d*a)\n",
    "        \n",
    "    H_e = (\n",
    "        displacement_op @ H_g @ displacement_op.T\n",
    "        + \n",
    "        zp_energy * np.identity(basis_size)\n",
    "        )\n",
    "    return H_e"
   ]
  },
  {
   "cell_type": "code",
   "execution_count": 6,
   "metadata": {},
   "outputs": [],
   "source": [
    "def displaced_lambdas(\n",
    "    lambda_array, \n",
    "    d, \n",
    "    include_H0_contri=True):\n",
    "    \"\"\" Given the polynomial or order n = len('lambda_array')-1\n",
    "            lambda_array[0]\n",
    "            +\n",
    "            lambda_array[1] * x\n",
    "            + \n",
    "            lambda_array[2] * x**2\n",
    "            ...\n",
    "            + \n",
    "            lambda_array[-1] * x**n\n",
    "        this function returns the coefficients upon introducing the \n",
    "        displacement \n",
    "            x -> x-d\n",
    "        \"\"\"\n",
    "    n = len(lambda_array) - 1\n",
    "    \n",
    "    lambda_matrix = np.tri(n+1)\n",
    "    lambda_matrix *= np.asarray(lambda_array)[:, None]\n",
    "    \n",
    "    ## For each term in the polynomial, we need to expand the binolial\n",
    "    ## and resort coefficients into lambda array. \n",
    "    for m in range(0, n+1):\n",
    "         for k in range(0, m):\n",
    "            lambda_matrix[m, k] *= (\n",
    "                spl.factorial(m)/(spl.factorial(k)*spl.factorial(m-k))\n",
    "                )*(-d)**(m-k)\n",
    "    new_lambdas = np.sum(lambda_matrix, axis=0)\n",
    "\n",
    "    if include_H0_contri:\n",
    "        ## Add contribution from displacing H_0\n",
    "        new_lambdas[:2] += [d**2/2, -d]\n",
    "    \n",
    "    return new_lambdas"
   ]
  },
  {
   "cell_type": "code",
   "execution_count": 7,
   "metadata": {},
   "outputs": [
    {
     "data": {
      "text/plain": [
       "array([1., 2., 3., 4.])"
      ]
     },
     "execution_count": 7,
     "metadata": {},
     "output_type": "execute_result"
    }
   ],
   "source": [
    "displaced_lambdas(\n",
    "    [1, 2, 3 ,4], \n",
    "    0,) "
   ]
  },
  {
   "cell_type": "code",
   "execution_count": 8,
   "metadata": {},
   "outputs": [],
   "source": [
    "def rho_e(H_e, T):\n",
    "    density_matrix_e = lin.expm(-H_e/(k*T))\n",
    "    density_matrix_e /= np.trace(density_matrix_e)\n",
    "    return density_matrix_e"
   ]
  },
  {
   "cell_type": "code",
   "execution_count": 9,
   "metadata": {},
   "outputs": [],
   "source": [
    "def gap_fluc_op(basis_size, lambda_g_array, lambda_e_array, T):\n",
    "    \"\"\" Returns energy gap fluctuation operator \"\"\"\n",
    "    density_matrix_e = rho_e(ham_g(basis_size, lambda_e_array), T=T) \n",
    "    \n",
    "    delta = np.zeros((basis_size, basis_size))\n",
    "    for n in range(len(lambda_e_array)):\n",
    "        xk = x_tothe_k(n, basis_size)\n",
    "        delta += (\n",
    "            (lambda_g_array[n] - lambda_e_array[n])\n",
    "            *\n",
    "            (xk - np.trace(xk@density_matrix_e)))\n",
    "    return delta"
   ]
  },
  {
   "cell_type": "code",
   "execution_count": 40,
   "metadata": {},
   "outputs": [],
   "source": [
    "_test_gap = gap_fluc_op(4, [0,0,1], [1,0,2], T=300)"
   ]
  },
  {
   "cell_type": "code",
   "execution_count": 42,
   "metadata": {},
   "outputs": [],
   "source": [
    "_test_gap_comps = (\n",
    "    ham_g(4, [0,0,1]) - ham_g(4, [1,0,2])\n",
    "    -\n",
    "    np.trace(\n",
    "        (ham_g(4, [0,0,1]) - ham_g(4, [1,0,2]))\n",
    "        @\n",
    "        rho_e(ham_g(4, [1,0,2]), T=300)\n",
    "        )\n",
    "    )"
   ]
  },
  {
   "cell_type": "code",
   "execution_count": 43,
   "metadata": {},
   "outputs": [
    {
     "data": {
      "text/plain": [
       "True"
      ]
     },
     "execution_count": 43,
     "metadata": {},
     "output_type": "execute_result"
    }
   ],
   "source": [
    "np.allclose(_test_gap, _test_gap_comps)"
   ]
  },
  {
   "cell_type": "code",
   "execution_count": 11,
   "metadata": {},
   "outputs": [],
   "source": [
    "def a_matrix(H_e, Delta, order):\n",
    "    A = np.block([\n",
    "        [-1j*H_e,             Delta,  ],\n",
    "        [np.zeros_like(Delta), -1j*H_e,]\n",
    "        ])\n",
    "    for o in range(1, order-1):\n",
    "        right_col = np.block([np.zeros_like(Delta)]*o + [Delta]).T\n",
    "        bottom_row = np.block([np.zeros_like(Delta)]*(o+1) + [-1j*H_e])\n",
    "    \n",
    "        A = np.block([\n",
    "            [A, right_col],\n",
    "            [bottom_row]\n",
    "            ])\n",
    "    return A"
   ]
  },
  {
   "cell_type": "code",
   "execution_count": 12,
   "metadata": {},
   "outputs": [],
   "source": [
    "def eigy_expm(A):\n",
    "    vals,vects = np.linalg.eig(A)\n",
    "    return np.einsum('...ik, ...k, ...kj ->...ij',\n",
    "                     vects,np.exp(vals),np.linalg.inv(vects))\n",
    "def loopy_expm(A):\n",
    "    expmA = np.zeros_like(A)\n",
    "    for n in range(A.shape[0]):\n",
    "        expmA[n,...] = lin.expm(A[n,...])\n",
    "    return expmA\n",
    "\n",
    "def big_b_tilde(\n",
    "    t, \n",
    "    order_n, \n",
    "    H_e, \n",
    "    rho_ex, \n",
    "    A=None,\n",
    "    e_At=None,\n",
    "    return_e_At_in_dict=False):\n",
    "    \n",
    "    \"\"\" Return shorthand B_n coefficient from Anda's paper \n",
    "            B_n = (i/hbar)^n * Tr{e^-iH_et [e^At]_[N-n, N] * rho_ex}\n",
    "        \"\"\"\n",
    "#     print(f\"Inside Bn, t = {t}\")\n",
    "    if type(t) is np.ndarray:\n",
    "        H_e = H_e[None, ...]\n",
    "        t = t[:, None, None]\n",
    "        if A is not None:\n",
    "            A = A[None, ...]\n",
    "        exp_func = loopy_expm\n",
    "    else:\n",
    "        exp_func = lin.expm\n",
    "#     print(f\"Shape of H_e inside B_n = {H_e.shape}\")\n",
    "#     print(f\"Shape of A inside B_n = {A.shape}\")\n",
    "        \n",
    "    ## First step compute matrix exponentials at time t\n",
    "    e_iHet = exp_func(1j*H_e*t)\n",
    "#     print(f\"e_iHet = {e_iHet}\")\n",
    "    if A is not None:\n",
    "        e_At = exp_func(A*t)\n",
    "    \n",
    "#     print(f\"e_At = {e_At}\")\n",
    "    ## Navigate block array\n",
    "    block_size = H_e.shape[-1]\n",
    "    \n",
    "    N = round(e_At.shape[-1]/block_size)\n",
    "#     print(f\" A block indexed from {(N-order_n-1)} to {N-order_n}\")\n",
    "    Bn_array = (\n",
    "        (-1j/hbar)**order_n \n",
    "        *\n",
    "        e_iHet\n",
    "        @\n",
    "        e_At[\n",
    "            ...,\n",
    "            (N-order_n-1)*block_size:(N-order_n)*block_size, \n",
    "            (N-1)*block_size:\n",
    "            ]\n",
    "        @\n",
    "        rho_ex\n",
    "        )\n",
    "    Bn = np.trace(Bn_array, axis1=-2, axis2=-1)\n",
    "    if return_e_At_in_dict:\n",
    "        return {'B_n':Bn, 'e_At':e_At}\n",
    "    return Bn"
   ]
  },
  {
   "cell_type": "code",
   "execution_count": 13,
   "metadata": {},
   "outputs": [],
   "source": [
    "def flu_lineshape(\n",
    "    omega, \n",
    "    gamma, \n",
    "    H_e,\n",
    "    rho_ex,\n",
    "    A,\n",
    "    t_max=1000,\n",
    "    t_points=100,\n",
    "    return_integrand=False):\n",
    "    \"\"\" Implement equation 31 from Anda \"\"\"\n",
    "    \n",
    "    def integrand(_t):\n",
    "        B_2_dict = big_b_tilde(\n",
    "            _t, \n",
    "            order_n=2, \n",
    "            H_e=H_e, \n",
    "            rho_ex=rho_ex, \n",
    "            A=A,\n",
    "            e_At=None,\n",
    "            return_e_At_in_dict=True)\n",
    "        B_2 = B_2_dict['B_n']\n",
    "        e_At = B_2_dict['e_At']\n",
    "#         print(f\"e_At = {e_At}\")\n",
    "        B_3 = big_b_tilde(\n",
    "            _t, \n",
    "            order_n=3, \n",
    "            H_e=H_e, \n",
    "            rho_ex=rho_ex, \n",
    "#             A = A,\n",
    "            e_At=e_At,\n",
    "            )\n",
    "        B_4 = big_b_tilde(\n",
    "            _t, \n",
    "            order_n=4, \n",
    "            H_e=H_e, \n",
    "            rho_ex=rho_ex, \n",
    "            e_At=e_At,)\n",
    "        B_5 = big_b_tilde(\n",
    "            _t, \n",
    "            order_n=5, \n",
    "            H_e=H_e, \n",
    "            rho_ex=rho_ex, \n",
    "            e_At=e_At,)\n",
    "        B_6 = big_b_tilde(\n",
    "            _t, \n",
    "            order_n=6, \n",
    "            H_e=H_e, \n",
    "            rho_ex=rho_ex, \n",
    "            e_At=e_At,)\n",
    "#         print(f\"B_2 = {B_2}\")\n",
    "#         print(f\"B_3 = {B_3}\")\n",
    "        exp_arg = (\n",
    "            B_2 \n",
    "#             + \n",
    "#             B_3\n",
    "#             ## Stop here fore 3rd order Cum. expansion\n",
    "#             +\n",
    "#             B_4\n",
    "#             -\n",
    "#             (B_2**2)/2 \n",
    "#             ## Stop here for 4th order Cum. expansion\n",
    "#             +\n",
    "#             B_5\n",
    "#             -\n",
    "#             B_2*B_3\n",
    "#             ## Stope here fore 5th order Cum. expansion\n",
    "#             +\n",
    "#             B_6\n",
    "#             -\n",
    "#             B_2*B_4\n",
    "#             -\n",
    "#             (B_3**2)/2\n",
    "#             +\n",
    "#             (B_2**3)/3\n",
    "            )\n",
    "\n",
    "        ## Return integrand with time on last dimensions and omegas on \n",
    "        ## first.\n",
    "#         print(f\"omega = {omega}\")\n",
    "#         print(f\"gamma = {gamma}\")\n",
    "#         print(f\"_t = {_t}\")\n",
    "#         print(f\"exp_arg = {exp_arg}\")\n",
    "        _integrand = np.real(\n",
    "            np.exp(\n",
    "                (-1j*omega[:, None] - gamma)*_t[None, :]\n",
    "                +\n",
    "                exp_arg[None, :]) \n",
    "            )\n",
    "#         print(f\"integrand = {_integrand}\")\n",
    "        return _integrand\n",
    "\n",
    "    ## Build t vector\n",
    "    ts = np.linspace(0, t_max, t_points)*1e-15\n",
    "    \n",
    "    if return_integrand:\n",
    "        return (ts, integrand(ts))\n",
    "    ## Integrate with trapazoid rule\n",
    "    integral = inte.trapz(integrand(ts), ts, axis=-1)\n",
    "    \n",
    "    ## Integrate with scipy quadriture function\n",
    "#     integral = integ.quad(integrand, 0, t_max*1e-15\n",
    "    ## Integrate by direct Rieman sum\n",
    "#     integral = np.zeros(len(omega))\n",
    "#     for t in ts:\n",
    "#         integral += integrand(t)\n",
    "#     integral *= ts[1]-ts[0]\n",
    "    return integral/(2*np.pi*hbar)"
   ]
  },
  {
   "cell_type": "code",
   "execution_count": 14,
   "metadata": {},
   "outputs": [
    {
     "data": {
      "text/plain": [
       "0.2734681429243948"
      ]
     },
     "execution_count": 14,
     "metadata": {},
     "output_type": "execute_result"
    }
   ],
   "source": [
    ".18/hbar * 1e-15"
   ]
  },
  {
   "cell_type": "code",
   "execution_count": 15,
   "metadata": {},
   "outputs": [],
   "source": [
    "basis_size = 20\n",
    "test_hbarw0 = 1\n",
    "\n",
    "lambda_g = [0, 0, 0]\n",
    "lambda_e = displaced_lambdas([0, 0, 0], 1)\n",
    "test_Hg = ham_g(basis_size, lambda_g)*test_hbarw0\n",
    "test_He = ham_g(basis_size, lambda_e)*test_hbarw0\n",
    "\n",
    "test_T = .3*test_hbarw0/k\n",
    "test_D = gap_fluc_op(basis_size, lambda_g, lambda_e, test_T)*test_hbarw0\n",
    "test_A = a_matrix(test_He, test_D, order=7)\n",
    "test_rho = rho_e(test_He, test_T)\n",
    "\n",
    "# test_hbar_omegas = np.linspace(-100, 100, 100)\n",
    "# test_lineshape = flu_lineshape(\n",
    "#     omega=test_hbar_omegas/hbar, \n",
    "#     gamma=.8/hbar, \n",
    "#     H_e=test_He,\n",
    "#     rho_ex=test_rho,\n",
    "#     A=test_A,\n",
    "#     t_max=.5,\n",
    "#     t_points=100,\n",
    "# #     return_integrand=True\n",
    "#     )\n",
    "\n",
    "test_hbar_omegas = np.linspace(-10, 15, 3)\n",
    "test_lineshape_integrand = flu_lineshape(\n",
    "    omega=test_hbar_omegas/hbar, \n",
    "    gamma=.18/hbar, \n",
    "    H_e=test_He,\n",
    "    rho_ex=test_rho,\n",
    "    A=test_A,\n",
    "    t_max=2,\n",
    "    t_points=666,\n",
    "    return_integrand=True\n",
    "    )"
   ]
  },
  {
   "cell_type": "code",
   "execution_count": 16,
   "metadata": {},
   "outputs": [
    {
     "data": {
      "image/png": "[encoded data removed]",
      "text/plain": [
       "<Figure size 432x288 with 1 Axes>"
      ]
     },
     "metadata": {
      "needs_background": "light"
     },
     "output_type": "display_data"
    }
   ],
   "source": [
    "ts, integrands = test_lineshape_integrand\n",
    "for integ in integrands:\n",
    "    plt.plot(ts, integ)"
   ]
  },
  {
   "cell_type": "code",
   "execution_count": 17,
   "metadata": {},
   "outputs": [
    {
     "data": {
      "text/plain": [
       "[<matplotlib.lines.Line2D at 0x153a081208>]"
      ]
     },
     "execution_count": 17,
     "metadata": {},
     "output_type": "execute_result"
    },
    {
     "data": {
      "image/png": "[encoded data removed]",
      "text/plain": [
       "<Figure size 432x288 with 1 Axes>"
      ]
     },
     "metadata": {
      "needs_background": "light"
     },
     "output_type": "display_data"
    }
   ],
   "source": [
    "test_hbar_omegas = np.linspace(-10, 15, 200)\n",
    "\n",
    "test_lineshape = flu_lineshape(\n",
    "    omega=test_hbar_omegas/hbar, \n",
    "    gamma=.18/hbar, \n",
    "    H_e=test_He,\n",
    "    rho_ex=test_rho,\n",
    "    A=test_A,\n",
    "    t_max=2,\n",
    "    t_points=666,\n",
    "#     return_integrand=True\n",
    "    )\n",
    "\n",
    "plt.plot(test_hbar_omegas, test_lineshape)"
   ]
  },
  {
   "cell_type": "code",
   "execution_count": 18,
   "metadata": {},
   "outputs": [
    {
     "name": "stdout",
     "output_type": "stream",
     "text": [
      "exp_arg = [-0.34924832-0.15314138j]\n"
     ]
    },
    {
     "data": {
      "text/plain": [
       "array([0.66867633])"
      ]
     },
     "execution_count": 18,
     "metadata": {},
     "output_type": "execute_result"
    }
   ],
   "source": [
    "# tt = np.array([0.00000000e+00, 5.05050505e-17, 1.01010101e-16, 1.51515152e-16])\n",
    "tt = np.array([1.51515152e-16])\n",
    "\n",
    "# tt = 1.51515152e-16\n",
    "\n",
    "b2 =big_b_tilde(\n",
    "    t=tt,\n",
    "    order_n=2, \n",
    "    H_e=test_He, \n",
    "    rho_ex=test_rho, \n",
    "    A=test_A, \n",
    "    e_At=None, \n",
    "#     return_e_At_in_dict=True,\n",
    "    )\n",
    "\n",
    "b3 =big_b_tilde(\n",
    "    t=tt,\n",
    "    order_n=3, \n",
    "    H_e=test_He, \n",
    "    rho_ex=test_rho, \n",
    "    A=test_A, \n",
    "    e_At=None, \n",
    "#     return_e_At_in_dict=True,\n",
    "    )\n",
    "\n",
    "print(f\"exp_arg = {b3 + b2}\" )\n",
    "\n",
    "np.real(np.exp(\n",
    "    (-1j*0/hbar - .18/hbar)*tt\n",
    "    +\n",
    "    b3 + b2) )"
   ]
  },
  {
   "cell_type": "code",
   "execution_count": 19,
   "metadata": {},
   "outputs": [
    {
     "data": {
      "text/plain": [
       "(140, 140)"
      ]
     },
     "execution_count": 19,
     "metadata": {},
     "output_type": "execute_result"
    }
   ],
   "source": [
    "test_t = np.array([1.51515152e-16])\n",
    "_test_H_e = test_He[None, ...]\n",
    "_test_t = test_t[:, None, None]\n",
    "_test_A = test_A[None, ...]\n",
    "test_eigy_expm_eAT = eigy_expm(_test_A*_test_t)\n",
    "test_eigy_expm_eAT[0].shape"
   ]
  },
  {
   "cell_type": "code",
   "execution_count": 20,
   "metadata": {},
   "outputs": [
    {
     "data": {
      "text/plain": [
       "(140, 140)"
      ]
     },
     "execution_count": 20,
     "metadata": {},
     "output_type": "execute_result"
    }
   ],
   "source": [
    "exp_func = lin.expm\n",
    "test_e_At = lin.expm(test_A*test_t[0])\n",
    "test_e_At.shape"
   ]
  },
  {
   "cell_type": "code",
   "execution_count": 21,
   "metadata": {},
   "outputs": [
    {
     "data": {
      "text/plain": [
       "False"
      ]
     },
     "execution_count": 21,
     "metadata": {},
     "output_type": "execute_result"
    }
   ],
   "source": [
    "np.allclose(test_eigy_expm_eAT[0], test_e_At)"
   ]
  },
  {
   "cell_type": "code",
   "execution_count": 22,
   "metadata": {},
   "outputs": [
    {
     "data": {
      "text/plain": [
       "True"
      ]
     },
     "execution_count": 22,
     "metadata": {},
     "output_type": "execute_result"
    }
   ],
   "source": [
    "np.allclose((_test_A*test_t)[0], test_A*test_t[0])"
   ]
  },
  {
   "cell_type": "code",
   "execution_count": null,
   "metadata": {},
   "outputs": [],
   "source": []
  },
  {
   "cell_type": "code",
   "execution_count": null,
   "metadata": {},
   "outputs": [],
   "source": []
  },
  {
   "cell_type": "code",
   "execution_count": 23,
   "metadata": {},
   "outputs": [
    {
     "data": {
      "text/plain": [
       "(1, 20, 20)"
      ]
     },
     "execution_count": 23,
     "metadata": {},
     "output_type": "execute_result"
    }
   ],
   "source": [
    "(test_He[None, ...]*tt[:, None, None]).shape"
   ]
  },
  {
   "cell_type": "code",
   "execution_count": 24,
   "metadata": {},
   "outputs": [
    {
     "data": {
      "text/plain": [
       "(1, 20, 20)"
      ]
     },
     "execution_count": 24,
     "metadata": {},
     "output_type": "execute_result"
    }
   ],
   "source": [
    "eigy_expm((test_He[None, ...]*tt[:, None, None])).shape"
   ]
  },
  {
   "cell_type": "code",
   "execution_count": null,
   "metadata": {},
   "outputs": [],
   "source": []
  },
  {
   "cell_type": "code",
   "execution_count": 25,
   "metadata": {},
   "outputs": [
    {
     "data": {
      "text/plain": [
       "True"
      ]
     },
     "execution_count": 25,
     "metadata": {},
     "output_type": "execute_result"
    }
   ],
   "source": [
    "np.all(eigy_expm(test_He) == eigy_expm(test_He[None, ...]))"
   ]
  },
  {
   "cell_type": "code",
   "execution_count": null,
   "metadata": {},
   "outputs": [],
   "source": []
  },
  {
   "cell_type": "code",
   "execution_count": 26,
   "metadata": {},
   "outputs": [
    {
     "data": {
      "text/plain": [
       "True"
      ]
     },
     "execution_count": 26,
     "metadata": {},
     "output_type": "execute_result"
    }
   ],
   "source": [
    "np.allclose(lin.expm(test_He), eigy_expm(test_He[None, ...]))"
   ]
  },
  {
   "cell_type": "code",
   "execution_count": 27,
   "metadata": {},
   "outputs": [
    {
     "data": {
      "text/plain": [
       "True"
      ]
     },
     "execution_count": 27,
     "metadata": {},
     "output_type": "execute_result"
    }
   ],
   "source": [
    "np.allclose(lin.expm(test_He*test_t[0]), eigy_expm(test_He[None, ...]*_test_t))"
   ]
  },
  {
   "cell_type": "code",
   "execution_count": 28,
   "metadata": {},
   "outputs": [
    {
     "data": {
      "text/plain": [
       "False"
      ]
     },
     "execution_count": 28,
     "metadata": {},
     "output_type": "execute_result"
    }
   ],
   "source": [
    "np.allclose(lin.expm(test_A*test_t[0]), eigy_expm(test_A[None, ...]*_test_t))"
   ]
  },
  {
   "cell_type": "code",
   "execution_count": 29,
   "metadata": {},
   "outputs": [
    {
     "data": {
      "text/plain": [
       "False"
      ]
     },
     "execution_count": 29,
     "metadata": {},
     "output_type": "execute_result"
    }
   ],
   "source": [
    "np.allclose(lin.expm(test_A), eigy_expm(test_A[None, ...])[0])"
   ]
  },
  {
   "cell_type": "code",
   "execution_count": 30,
   "metadata": {},
   "outputs": [
    {
     "data": {
      "text/plain": [
       "(140, 140)"
      ]
     },
     "execution_count": 30,
     "metadata": {},
     "output_type": "execute_result"
    }
   ],
   "source": [
    "lin.expm(test_A).shape"
   ]
  },
  {
   "cell_type": "code",
   "execution_count": 31,
   "metadata": {},
   "outputs": [
    {
     "data": {
      "text/plain": [
       "(1, 140, 140)"
      ]
     },
     "execution_count": 31,
     "metadata": {},
     "output_type": "execute_result"
    }
   ],
   "source": [
    "eigy_expm(test_A[None, ...]).shape"
   ]
  },
  {
   "cell_type": "code",
   "execution_count": 32,
   "metadata": {},
   "outputs": [
    {
     "data": {
      "text/plain": [
       "array([[0. -0.5j       , 0. +0.70710678j, 0. -0.j        , ...,\n",
       "        0. +0.j        , 0. +0.j        , 0. +0.j        ],\n",
       "       [0. +0.70710678j, 0. -1.5j       , 0. +1.j        , ...,\n",
       "        0. +0.j        , 0. +0.j        , 0. +0.j        ],\n",
       "       [0. -0.j        , 0. +1.j        , 0. -2.5j       , ...,\n",
       "        0. +0.j        , 0. +0.j        , 0. +0.j        ],\n",
       "       ...,\n",
       "       [0. +0.j        , 0. +0.j        , 0. +0.j        , ...,\n",
       "        0.-17.5j       , 0. +3.j        , 0. -0.j        ],\n",
       "       [0. +0.j        , 0. +0.j        , 0. +0.j        , ...,\n",
       "        0. +3.j        , 0.-18.5j       , 0. +3.082207j  ],\n",
       "       [0. +0.j        , 0. +0.j        , 0. +0.j        , ...,\n",
       "        0. -0.j        , 0. +3.082207j  , 0.-19.5j       ]])"
      ]
     },
     "execution_count": 32,
     "metadata": {},
     "output_type": "execute_result"
    }
   ],
   "source": [
    "test_A"
   ]
  },
  {
   "cell_type": "code",
   "execution_count": 33,
   "metadata": {},
   "outputs": [
    {
     "data": {
      "text/plain": [
       "False"
      ]
     },
     "execution_count": 33,
     "metadata": {},
     "output_type": "execute_result"
    }
   ],
   "source": [
    "vals, vecs = np.linalg.eig(test_A)\n",
    "np.allclose(vecs @ np.diag(vals) @ np.linalg.inv(vecs), test_A)"
   ]
  },
  {
   "cell_type": "code",
   "execution_count": 34,
   "metadata": {},
   "outputs": [
    {
     "data": {
      "text/plain": [
       "True"
      ]
     },
     "execution_count": 34,
     "metadata": {},
     "output_type": "execute_result"
    }
   ],
   "source": [
    "vals, vecs = np.linalg.eig(test_He)\n",
    "np.allclose(vecs @ np.diag(vals) @ np.linalg.inv(vecs), test_He)"
   ]
  },
  {
   "cell_type": "code",
   "execution_count": 35,
   "metadata": {},
   "outputs": [
    {
     "data": {
      "text/plain": [
       "False"
      ]
     },
     "execution_count": 35,
     "metadata": {},
     "output_type": "execute_result"
    }
   ],
   "source": [
    "vals, vecs = np.linalg.eig(test_A)\n",
    "np.allclose(np.linalg.inv(vecs)@ np.diag(vals) @ vecs , test_A)"
   ]
  },
  {
   "cell_type": "code",
   "execution_count": 36,
   "metadata": {},
   "outputs": [
    {
     "data": {
      "text/plain": [
       "<matplotlib.colorbar.Colorbar at 0x11e611a20>"
      ]
     },
     "execution_count": 36,
     "metadata": {},
     "output_type": "execute_result"
    },
    {
     "data": {
      "image/png": "[encoded data removed]",
      "text/plain": [
       "<Figure size 432x288 with 2 Axes>"
      ]
     },
     "metadata": {
      "needs_background": "light"
     },
     "output_type": "display_data"
    }
   ],
   "source": [
    "plt.imshow(np.real(test_A))\n",
    "plt.colorbar()"
   ]
  },
  {
   "cell_type": "code",
   "execution_count": 38,
   "metadata": {},
   "outputs": [
    {
     "data": {
      "text/plain": [
       "<matplotlib.image.AxesImage at 0x1521fafcf8>"
      ]
     },
     "execution_count": 38,
     "metadata": {},
     "output_type": "execute_result"
    },
    {
     "data": {
      "image/png": "[encoded data removed]",
      "text/plain": [
       "<Figure size 432x288 with 1 Axes>"
      ]
     },
     "metadata": {
      "needs_background": "light"
     },
     "output_type": "display_data"
    }
   ],
   "source": [
    "plt.imshow(test_D)"
   ]
  },
  {
   "cell_type": "code",
   "execution_count": 37,
   "metadata": {},
   "outputs": [
    {
     "data": {
      "text/plain": [
       "<matplotlib.colorbar.Colorbar at 0x15219462b0>"
      ]
     },
     "execution_count": 37,
     "metadata": {},
     "output_type": "execute_result"
    },
    {
     "data": {
      "image/png": "[encoded data removed]",
      "text/plain": [
       "<Figure size 432x288 with 2 Axes>"
      ]
     },
     "metadata": {
      "needs_background": "light"
     },
     "output_type": "display_data"
    }
   ],
   "source": [
    "plt.imshow(np.real(test_A)[:20, 20:40])\n",
    "plt.colorbar()"
   ]
  },
  {
   "cell_type": "code",
   "execution_count": 150,
   "metadata": {},
   "outputs": [
    {
     "data": {
      "text/plain": [
       "<matplotlib.colorbar.Colorbar at 0x1516a13b00>"
      ]
     },
     "execution_count": 150,
     "metadata": {},
     "output_type": "execute_result"
    },
    {
     "data": {
      "image/png": "[encoded data removed]",
      "text/plain": [
       "<Figure size 432x288 with 2 Axes>"
      ]
     },
     "metadata": {
      "needs_background": "light"
     },
     "output_type": "display_data"
    }
   ],
   "source": [
    "plt.imshow(np.imag(test_A))\n",
    "plt.colorbar()"
   ]
  },
  {
   "cell_type": "code",
   "execution_count": 77,
   "metadata": {},
   "outputs": [
    {
     "data": {
      "text/plain": [
       "<matplotlib.colorbar.Colorbar at 0x1524d31668>"
      ]
     },
     "execution_count": 77,
     "metadata": {},
     "output_type": "execute_result"
    },
    {
     "data": {
      "image/png": "[encoded data removed]",
      "text/plain": [
       "<Figure size 432x288 with 1 Axes>"
      ]
     },
     "metadata": {
      "needs_background": "light"
     },
     "output_type": "display_data"
    },
    {
     "data": {
      "image/png": "[encoded data removed]",
      "text/plain": [
       "<Figure size 432x288 with 2 Axes>"
      ]
     },
     "metadata": {
      "needs_background": "light"
     },
     "output_type": "display_data"
    },
    {
     "data": {
      "image/png": "[encoded data removed]",
      "text/plain": [
       "<Figure size 432x288 with 2 Axes>"
      ]
     },
     "metadata": {
      "needs_background": "light"
     },
     "output_type": "display_data"
    },
    {
     "data": {
      "image/png": "[encoded data removed]",
      "text/plain": [
       "<Figure size 432x288 with 2 Axes>"
      ]
     },
     "metadata": {
      "needs_background": "light"
     },
     "output_type": "display_data"
    },
    {
     "data": {
      "image/png": "[encoded data removed]",
      "text/plain": [
       "<Figure size 432x288 with 2 Axes>"
      ]
     },
     "metadata": {
      "needs_background": "light"
     },
     "output_type": "display_data"
    }
   ],
   "source": [
    "vals, vecs = np.linalg.eig(test_A)\n",
    "A_eig_reconst = vecs @ np.diag(vals) @ np.linalg.inv(vecs)\n",
    "plt.imshow(\n",
    "    A_eig_reconst == test_A,\n",
    "    cmap='gray', vmin=0, vmax=1)\n",
    "plt.title('A eig. reconstruction == A') \n",
    "\n",
    "plt.figure()\n",
    "plt.imshow(\n",
    "    np.real(A_eig_reconst),\n",
    "#     cmap='gray'\n",
    "    )\n",
    "plt.title('real(A) eig. reconstruction')\n",
    "plt.colorbar()\n",
    "\n",
    "plt.figure()\n",
    "plt.imshow(\n",
    "    np.ma.masked_greater(np.abs(np.real(A_eig_reconst)), 1e10),\n",
    "#     cmap='gray'\n",
    "    )\n",
    "plt.title('real(A) eig. reconst., masked at 1e10')\n",
    "plt.colorbar()\n",
    "\n",
    "plt.figure()\n",
    "plt.imshow(\n",
    "    np.real(vecs)\n",
    "    )\n",
    "plt.title('real(eig. vectors)')\n",
    "plt.colorbar()\n",
    "\n",
    "plt.figure()\n",
    "plt.imshow(\n",
    "    np.imag(vecs)\n",
    "    )\n",
    "plt.title('imag(eig. vectors)')\n",
    "plt.colorbar()"
   ]
  },
  {
   "cell_type": "code",
   "execution_count": 79,
   "metadata": {},
   "outputs": [
    {
     "data": {
      "text/plain": [
       "<matplotlib.colorbar.Colorbar at 0x1525eb7780>"
      ]
     },
     "execution_count": 79,
     "metadata": {},
     "output_type": "execute_result"
    },
    {
     "data": {
      "image/png": "[encoded data removed]",
      "text/plain": [
       "<Figure size 432x288 with 2 Axes>"
      ]
     },
     "metadata": {
      "needs_background": "light"
     },
     "output_type": "display_data"
    },
    {
     "data": {
      "image/png": "[encoded data removed]",
      "text/plain": [
       "<Figure size 432x288 with 2 Axes>"
      ]
     },
     "metadata": {
      "needs_background": "light"
     },
     "output_type": "display_data"
    }
   ],
   "source": [
    "\n",
    "plt.figure()\n",
    "plt.imshow(\n",
    "    lin.inv(np.real(vecs))\n",
    "    )\n",
    "plt.title('real(eig. vectors)')\n",
    "plt.colorbar()\n",
    "\n",
    "plt.figure()\n",
    "plt.imshow(\n",
    "    lin.inv(np.imag(vecs))\n",
    "    )\n",
    "plt.title('imag(eig. vectors)')\n",
    "plt.colorbar()"
   ]
  },
  {
   "cell_type": "code",
   "execution_count": 87,
   "metadata": {},
   "outputs": [
    {
     "data": {
      "text/plain": [
       "<matplotlib.colorbar.Colorbar at 0x15257f25c0>"
      ]
     },
     "execution_count": 87,
     "metadata": {},
     "output_type": "execute_result"
    },
    {
     "data": {
      "image/png": "[encoded data removed]",
      "text/plain": [
       "<Figure size 432x288 with 2 Axes>"
      ]
     },
     "metadata": {
      "needs_background": "light"
     },
     "output_type": "display_data"
    },
    {
     "data": {
      "image/png": "[encoded data removed]",
      "text/plain": [
       "<Figure size 432x288 with 2 Axes>"
      ]
     },
     "metadata": {
      "needs_background": "light"
     },
     "output_type": "display_data"
    }
   ],
   "source": [
    "\n",
    "plt.figure()\n",
    "plt.imshow(\n",
    "    np.real(lin.expm(test_A*1e-15))\n",
    "    )\n",
    "plt.title('real(E^At)')\n",
    "plt.colorbar()\n",
    "\n",
    "plt.figure()\n",
    "plt.imshow(\n",
    "    np.imag(lin.expm(test_A*1e-15))\n",
    "    )\n",
    "plt.title('imag(E^At)')\n",
    "plt.colorbar()"
   ]
  },
  {
   "cell_type": "code",
   "execution_count": 90,
   "metadata": {},
   "outputs": [
    {
     "data": {
      "text/plain": [
       "<matplotlib.colorbar.Colorbar at 0x1524a80cf8>"
      ]
     },
     "execution_count": 90,
     "metadata": {},
     "output_type": "execute_result"
    },
    {
     "data": {
      "image/png": "[encoded data removed]",
      "text/plain": [
       "<Figure size 432x288 with 2 Axes>"
      ]
     },
     "metadata": {
      "needs_background": "light"
     },
     "output_type": "display_data"
    },
    {
     "data": {
      "image/png": "[encoded data removed]",
      "text/plain": [
       "<Figure size 432x288 with 2 Axes>"
      ]
     },
     "metadata": {
      "needs_background": "light"
     },
     "output_type": "display_data"
    }
   ],
   "source": [
    "\n",
    "plt.figure()\n",
    "plt.imshow(\n",
    "    np.real(lin.expm(1j*test_He*1e-15))\n",
    "    )\n",
    "plt.title('real(E^iHet)')\n",
    "plt.colorbar()\n",
    "\n",
    "plt.figure()\n",
    "plt.imshow(\n",
    "    np.imag(lin.expm(1j*test_He*1e-15))\n",
    "    )\n",
    "plt.title('imag(E^iHet)')\n",
    "plt.colorbar()"
   ]
  },
  {
   "cell_type": "code",
   "execution_count": 91,
   "metadata": {},
   "outputs": [
    {
     "data": {
      "text/plain": [
       "<matplotlib.colorbar.Colorbar at 0x1522d8f048>"
      ]
     },
     "execution_count": 91,
     "metadata": {},
     "output_type": "execute_result"
    },
    {
     "data": {
      "image/png": "[encoded data removed]",
      "text/plain": [
       "<Figure size 432x288 with 2 Axes>"
      ]
     },
     "metadata": {
      "needs_background": "light"
     },
     "output_type": "display_data"
    },
    {
     "data": {
      "image/png": "[encoded data removed]",
      "text/plain": [
       "<Figure size 432x288 with 2 Axes>"
      ]
     },
     "metadata": {
      "needs_background": "light"
     },
     "output_type": "display_data"
    }
   ],
   "source": [
    "\n",
    "plt.figure()\n",
    "plt.imshow(\n",
    "    np.real((1j*test_He*1e-15))\n",
    "    )\n",
    "plt.title('real(iHet)')\n",
    "plt.colorbar()\n",
    "\n",
    "plt.figure()\n",
    "plt.imshow(\n",
    "    np.imag((1j*test_He*1e-15))\n",
    "    )\n",
    "plt.title('imag(iHet)')\n",
    "plt.colorbar()"
   ]
  },
  {
   "cell_type": "markdown",
   "metadata": {},
   "source": [
    "More Testing on A"
   ]
  },
  {
   "cell_type": "code",
   "execution_count": 54,
   "metadata": {},
   "outputs": [
    {
     "data": {
      "text/plain": [
       "<matplotlib.colorbar.Colorbar at 0x15230a5278>"
      ]
     },
     "execution_count": 54,
     "metadata": {},
     "output_type": "execute_result"
    },
    {
     "data": {
      "image/png": "[encoded data removed]",
      "text/plain": [
       "<Figure size 432x288 with 2 Axes>"
      ]
     },
     "metadata": {
      "needs_background": "light"
     },
     "output_type": "display_data"
    }
   ],
   "source": [
    "plt.imshow(\n",
    "    lin.expm(1j*test_A) == lin.cosm(test_A) + 1j*lin.sinm(test_A),\n",
    "    cmap='gray', vmin=0, vmax=1)\n",
    "plt.colorbar()"
   ]
  },
  {
   "cell_type": "code",
   "execution_count": 84,
   "metadata": {},
   "outputs": [
    {
     "data": {
      "text/plain": [
       "<matplotlib.colorbar.Colorbar at 0x1526d82ba8>"
      ]
     },
     "execution_count": 84,
     "metadata": {},
     "output_type": "execute_result"
    },
    {
     "data": {
      "image/png": "[encoded data removed]",
      "text/plain": [
       "<Figure size 432x288 with 2 Axes>"
      ]
     },
     "metadata": {
      "needs_background": "light"
     },
     "output_type": "display_data"
    }
   ],
   "source": [
    "plt.imshow(\n",
    "    np.ma.masked_where(\n",
    "        lin.expm(1j*test_A) == lin.cosm(test_A) + 1j*lin.sinm(test_A),\n",
    "        np.real(lin.expm(1j*test_A) - (lin.cosm(test_A) + 1j*lin.sinm(test_A)))\n",
    "        )\n",
    "#     cmap='gray', vmin=0, vmax=1\n",
    "    )\n",
    "plt.colorbar()"
   ]
  },
  {
   "cell_type": "code",
   "execution_count": 55,
   "metadata": {},
   "outputs": [
    {
     "data": {
      "text/plain": [
       "<matplotlib.colorbar.Colorbar at 0x15232d0358>"
      ]
     },
     "execution_count": 55,
     "metadata": {},
     "output_type": "execute_result"
    },
    {
     "data": {
      "image/png": "[encoded data removed]",
      "text/plain": [
       "<Figure size 432x288 with 2 Axes>"
      ]
     },
     "metadata": {
      "needs_background": "light"
     },
     "output_type": "display_data"
    }
   ],
   "source": [
    "plt.imshow(\n",
    "    lin.expm(1j*test_He) == lin.cosm(test_He) + 1j*lin.sinm(test_He),\n",
    "    cmap='gray', vmin=0, vmax=1)\n",
    "plt.colorbar()"
   ]
  },
  {
   "cell_type": "markdown",
   "metadata": {},
   "source": [
    "Lets define some smaller test matricies"
   ]
  },
  {
   "cell_type": "code",
   "execution_count": 97,
   "metadata": {},
   "outputs": [],
   "source": [
    "_test_A_r2 = np.array([\n",
    "    [-1j, 1],\n",
    "    [0,  -1j],\n",
    "])\n",
    "_test_A_r3 = np.array([\n",
    "    [-1j, 1,  0 ],\n",
    "    [0,  -1j, 1 ],\n",
    "    [0,   0, -1j]\n",
    "])"
   ]
  },
  {
   "cell_type": "code",
   "execution_count": 96,
   "metadata": {},
   "outputs": [
    {
     "data": {
      "text/plain": [
       "(array([-0.-1.j,  0.+1.j]),\n",
       " array([[1.        +0.j       , 0.        -0.4472136j],\n",
       "        [0.        +0.j       , 0.89442719+0.j       ]]))"
      ]
     },
     "execution_count": 96,
     "metadata": {},
     "output_type": "execute_result"
    }
   ],
   "source": [
    "np.linalg.eig(_test_A_r2)"
   ]
  },
  {
   "cell_type": "code",
   "execution_count": 98,
   "metadata": {},
   "outputs": [
    {
     "data": {
      "text/plain": [
       "(array([-0.-1.j, -0.-1.j, -0.-1.j]),\n",
       " array([[ 1.00000000e+00+0.j,  1.00000000e+00+0.j,  1.00000000e+00+0.j],\n",
       "        [ 0.00000000e+00+0.j, -2.22044605e-16+0.j, -2.22044605e-16+0.j],\n",
       "        [ 0.00000000e+00+0.j, -0.00000000e+00+0.j,  4.93038066e-32+0.j]]))"
      ]
     },
     "execution_count": 98,
     "metadata": {},
     "output_type": "execute_result"
    }
   ],
   "source": [
    "np.linalg.eig(_test_A_r3)"
   ]
  },
  {
   "cell_type": "code",
   "execution_count": 101,
   "metadata": {},
   "outputs": [
    {
     "data": {
      "text/plain": [
       "array([[1.+0.j, 0.+0.j, 0.+0.j],\n",
       "       [0.+0.j, 1.+0.j, 0.+0.j],\n",
       "       [0.+0.j, 0.+0.j, 1.+0.j]])"
      ]
     },
     "execution_count": 101,
     "metadata": {},
     "output_type": "execute_result"
    }
   ],
   "source": [
    "np.linalg.inv(_test_A_r3) @ _test_A_r3"
   ]
  },
  {
   "cell_type": "code",
   "execution_count": 143,
   "metadata": {},
   "outputs": [
    {
     "data": {
      "text/plain": [
       "<matplotlib.colorbar.Colorbar at 0x1527a79748>"
      ]
     },
     "execution_count": 143,
     "metadata": {},
     "output_type": "execute_result"
    },
    {
     "data": {
      "image/png": "[encoded data removed]",
      "text/plain": [
       "<Figure size 432x288 with 2 Axes>"
      ]
     },
     "metadata": {
      "needs_background": "light"
     },
     "output_type": "display_data"
    }
   ],
   "source": [
    "plt.imshow(\n",
    "    np.imag(np.linalg.inv(test_A*1e-15) @ test_A*1e-15))\n",
    "plt.colorbar()"
   ]
  },
  {
   "cell_type": "code",
   "execution_count": 144,
   "metadata": {},
   "outputs": [
    {
     "data": {
      "text/plain": [
       "5.2047228648231936e+17"
      ]
     },
     "execution_count": 144,
     "metadata": {},
     "output_type": "execute_result"
    }
   ],
   "source": [
    "np.linalg.cond(test_A)"
   ]
  },
  {
   "cell_type": "code",
   "execution_count": 106,
   "metadata": {},
   "outputs": [
    {
     "data": {
      "text/plain": [
       "139"
      ]
     },
     "execution_count": 106,
     "metadata": {},
     "output_type": "execute_result"
    }
   ],
   "source": [
    "np.linalg.matrix_rank(test_A)"
   ]
  },
  {
   "cell_type": "code",
   "execution_count": 107,
   "metadata": {},
   "outputs": [
    {
     "data": {
      "text/plain": [
       "3"
      ]
     },
     "execution_count": 107,
     "metadata": {},
     "output_type": "execute_result"
    }
   ],
   "source": [
    "np.linalg.matrix_rank(_test_A_r3)"
   ]
  },
  {
   "cell_type": "code",
   "execution_count": 124,
   "metadata": {},
   "outputs": [],
   "source": [
    "def taylor_expm(A, n):\n",
    "    e_A = np.identity(A.shape[0], dtype='complex')\n",
    "    for i in range(1, n):\n",
    "        e_A += (1/spl.factorial(i))*np.linalg.matrix_power(A, i)\n",
    "    return e_A"
   ]
  },
  {
   "cell_type": "code",
   "execution_count": 130,
   "metadata": {},
   "outputs": [
    {
     "data": {
      "text/plain": [
       "True"
      ]
     },
     "execution_count": 130,
     "metadata": {},
     "output_type": "execute_result"
    }
   ],
   "source": [
    "test_tay_expm = taylor_expm(_test_A_r3, 20)\n",
    "test_lin_expm = lin.expm(_test_A_r3)\n",
    "np.allclose(test_tay_expm, test_lin_expm)"
   ]
  },
  {
   "cell_type": "code",
   "execution_count": 153,
   "metadata": {},
   "outputs": [
    {
     "data": {
      "text/plain": [
       "True"
      ]
     },
     "execution_count": 153,
     "metadata": {},
     "output_type": "execute_result"
    }
   ],
   "source": [
    "test_tay_expm = taylor_expm(test_A, 80)\n",
    "test_lin_expm = lin.expm(test_A)\n",
    "np.allclose(test_tay_expm, test_lin_expm)"
   ]
  },
  {
   "cell_type": "code",
   "execution_count": 139,
   "metadata": {},
   "outputs": [
    {
     "data": {
      "text/plain": [
       "(562159246.0490031+0j)"
      ]
     },
     "execution_count": 139,
     "metadata": {},
     "output_type": "execute_result"
    }
   ],
   "source": [
    "np.linalg.det(test_A)"
   ]
  },
  {
   "cell_type": "code",
   "execution_count": 141,
   "metadata": {},
   "outputs": [
    {
     "data": {
      "text/plain": [
       "array([[ 3.93809120e-01+0.j,  0.00000000e+00+0.j,  1.57051115e+00+0.j,\n",
       "        ..., -5.97909394e+90+0.j, -6.33469225e+90+0.j,\n",
       "        -7.28755247e+91+0.j],\n",
       "       [-5.45410797e-01+0.j,  2.00000000e+00+0.j, -1.34568567e-01+0.j,\n",
       "        ..., -4.23383398e+90+0.j, -4.48043250e+90+0.j,\n",
       "        -5.15306462e+91+0.j],\n",
       "       [-9.59287030e-02+0.j,  2.50000000e-01+0.j,  8.90576053e-01+0.j,\n",
       "        ..., -2.11682374e+90+0.j, -2.24071357e+90+0.j,\n",
       "        -2.57653231e+91+0.j],\n",
       "       ...,\n",
       "       [ 0.00000000e+00+0.j,  0.00000000e+00+0.j,  0.00000000e+00+0.j,\n",
       "        ...,  1.00000000e+00+0.j,  3.05311332e-16+0.j,\n",
       "         2.86576318e-15+0.j],\n",
       "       [ 0.00000000e+00+0.j,  0.00000000e+00+0.j,  0.00000000e+00+0.j,\n",
       "        ...,  4.58725032e-18+0.j,  1.00000000e+00+0.j,\n",
       "         4.44089210e-16+0.j],\n",
       "       [ 0.00000000e+00+0.j,  0.00000000e+00+0.j,  0.00000000e+00+0.j,\n",
       "        ...,  5.45946750e-19+0.j,  5.55111512e-17+0.j,\n",
       "         1.00000000e+00+0.j]])"
      ]
     },
     "execution_count": 141,
     "metadata": {},
     "output_type": "execute_result"
    }
   ],
   "source": [
    "np.linalg.inv(test_A) @ test_A"
   ]
  },
  {
   "cell_type": "code",
   "execution_count": 152,
   "metadata": {},
   "outputs": [
    {
     "data": {
      "text/plain": [
       "5.2047228648231936e+17"
      ]
     },
     "execution_count": 152,
     "metadata": {},
     "output_type": "execute_result"
    }
   ],
   "source": [
    "np.linalg.cond(test_A)"
   ]
  },
  {
   "cell_type": "code",
   "execution_count": 148,
   "metadata": {},
   "outputs": [
    {
     "data": {
      "text/plain": [
       "array([[0. -0.5j       , 0. +0.70710678j, 0. -0.j        , ...,\n",
       "        0. +0.j        , 0. +0.j        , 0. +0.j        ],\n",
       "       [0. +0.70710678j, 0. -1.5j       , 0. +1.j        , ...,\n",
       "        0. +0.j        , 0. +0.j        , 0. +0.j        ],\n",
       "       [0. -0.j        , 0. +1.j        , 0. -2.5j       , ...,\n",
       "        0. +0.j        , 0. +0.j        , 0. +0.j        ],\n",
       "       ...,\n",
       "       [0. +0.j        , 0. +0.j        , 0. +0.j        , ...,\n",
       "        0.-17.5j       , 0. +3.j        , 0. -0.j        ],\n",
       "       [0. +0.j        , 0. +0.j        , 0. +0.j        , ...,\n",
       "        0. +3.j        , 0.-18.5j       , 0. +3.082207j  ],\n",
       "       [0. +0.j        , 0. +0.j        , 0. +0.j        , ...,\n",
       "        0. -0.j        , 0. +3.082207j  , 0.-19.5j       ]])"
      ]
     },
     "execution_count": 148,
     "metadata": {},
     "output_type": "execute_result"
    }
   ],
   "source": [
    "test_A"
   ]
  },
  {
   "cell_type": "markdown",
   "metadata": {},
   "source": [
    "# Trying to reproduce Anda's first example"
   ]
  },
  {
   "cell_type": "markdown",
   "metadata": {},
   "source": [
    "The Morse potential expanded to 12th order yields the polynomial, \n",
    "\\begin{multline}\n",
    "    0.500141 x^{2} - 0.0456629 x^{3} + 0.00243193 x^{4} - 0.000095158 x^{5} \\\\\n",
    "    + 2.99251*10^{-6} x^{6} - 7.93207*10^{-8} x^{7} + 1.82486*10^{-9} x^{8} \\\\\n",
    "    - 3.71702*10^{-11} x^{9} + 6.80059*10^{-13} x^{10} - 1.13*10^{-14} x^{11} \\\\\n",
    "    + 1.72033*10^{-16} x^{12}\n",
    "\\end{multline}"
   ]
  },
  {
   "cell_type": "code",
   "execution_count": 281,
   "metadata": {},
   "outputs": [],
   "source": [
    "mor_lam_g = [\n",
    "    0,\n",
    "    0,\n",
    "    0.500141 - .5, ## to account for H_0 \n",
    "    - 0.0456629,\n",
    "    0.00243193,\n",
    "    - 0.000095158,\n",
    "    2.99251*1e-6,\n",
    "    - 7.93207*1e-8,\n",
    "    + 1.82486*1e-9,\n",
    "    - 3.71702*1e-11,\n",
    "    6.80059*1e-13,\n",
    "    - 1.13*1e-14,\n",
    "    + 1.72033*1e-16,\n",
    "    ]\n",
    "\n",
    "basis_size = 20\n",
    "hbarw0_mor = 1\n",
    "\n",
    "mor_lam_e = displaced_lambdas(mor_lam_g, 1.6)\n",
    "Hg_mor = ham_g(basis_size, mor_lam_g)*hbarw0_mor\n",
    "He_mor = ham_g(basis_size, mor_lam_e)*hbarw0_mor\n",
    "\n",
    "T_mor = .3*hbarw0_mor/k\n",
    "D_mor = gap_fluc_op(basis_size, mor_lam_g, mor_lam_e, T_mor)*hbarw0_mor\n",
    "A_mor = a_matrix(He_mor, D_mor, order=7)\n",
    "rho_mor = rho_e(He_mor, T_mor)\n",
    "\n",
    "# big_b_tilde(t=100*1e-15, order_n=6, H_e=Hg_mor, A=A_mor, rho_ex=rho_mor)\n",
    "\n",
    "hbar_omegas_mor = np.linspace(0, 10, 4)\n",
    "\n",
    "# lineshape_mor = flu_lineshape(\n",
    "#     omega=hbar_omegas_mor/hbar, \n",
    "#     gamma=.18/hbar, \n",
    "#     H_e=He_mor,\n",
    "#     rho_ex=rho_mor,\n",
    "#     A=A_mor,\n",
    "#     t_max=.8,\n",
    "#     t_points=1000,\n",
    "# #     return_integrand=True\n",
    "#     )\n",
    "lineshape_mor_integrand = flu_lineshape(\n",
    "    omega=hbar_omegas_mor/hbar, \n",
    "    gamma=.18/hbar, \n",
    "    H_e=He_mor,\n",
    "    rho_ex=rho_mor,\n",
    "    A=A_mor,\n",
    "    t_max=.13,\n",
    "    t_points=100,\n",
    "    return_integrand=True\n",
    "    )"
   ]
  },
  {
   "cell_type": "code",
   "execution_count": 282,
   "metadata": {},
   "outputs": [
    {
     "data": {
      "image/png": "[encoded data removed]",
      "text/plain": [
       "<Figure size 432x288 with 1 Axes>"
      ]
     },
     "metadata": {
      "needs_background": "light"
     },
     "output_type": "display_data"
    }
   ],
   "source": [
    "ts, integrands = lineshape_mor_integrand\n",
    "for integ in integrands:\n",
    "    plt.plot(ts, integ)"
   ]
  },
  {
   "cell_type": "code",
   "execution_count": 264,
   "metadata": {},
   "outputs": [],
   "source": [
    "hbar_omegas_mor = np.linspace(-5, 10, 100)\n",
    "lineshape_mor = flu_lineshape(\n",
    "    omega=hbar_omegas_mor/hbar, \n",
    "    gamma=.18/hbar, \n",
    "    H_e=He_mor,\n",
    "    rho_ex=rho_mor,\n",
    "    A=A_mor,\n",
    "    t_max=.3,\n",
    "    t_points=100,\n",
    "#     return_integrand=True\n",
    "    )"
   ]
  },
  {
   "cell_type": "code",
   "execution_count": 265,
   "metadata": {},
   "outputs": [
    {
     "data": {
      "text/plain": [
       "[<matplotlib.lines.Line2D at 0x15193d2fd0>]"
      ]
     },
     "execution_count": 265,
     "metadata": {},
     "output_type": "execute_result"
    },
    {
     "data": {
      "image/png": "[encoded data removed]",
      "text/plain": [
       "<Figure size 432x288 with 1 Axes>"
      ]
     },
     "metadata": {
      "needs_background": "light"
     },
     "output_type": "display_data"
    }
   ],
   "source": [
    "plt.plot(hbar_omegas_mor, lineshape_mor)"
   ]
  },
  {
   "cell_type": "code",
   "execution_count": null,
   "metadata": {},
   "outputs": [],
   "source": []
  }
 ],
 "metadata": {
  "kernelspec": {
   "display_name": "Python [conda env:py36] *",
   "language": "python",
   "name": "conda-env-py36-py"
  },
  "language_info": {
   "codemirror_mode": {
    "name": "ipython",
    "version": 3
   },
   "file_extension": ".py",
   "mimetype": "text/x-python",
   "name": "python",
   "nbconvert_exporter": "python",
   "pygments_lexer": "ipython3",
   "version": "3.6.7"
  }
 },
 "nbformat": 4,
 "nbformat_minor": 4
}
