{
 "cells": [
  {
   "cell_type": "code",
   "execution_count": 133,
   "metadata": {},
   "outputs": [],
   "source": [
    "import os\n",
    "import sys\n",
    "\n",
    "import numpy as np\n",
    "\n",
    "import matplotlib.pyplot as plt\n",
    "import matplotlib as mpl\n",
    "\n",
    "import scipy.linalg as lin\n",
    "import scipy.special as spl\n",
    "import scipy.integrate as inte\n",
    "\n",
    "import scipy.interpolate as interp\n",
    "\n",
    "## Get physical constants from Scipy\n",
    "import scipy.constants as con\n",
    "## Some useful numerical constants\n",
    "hbar = con.physical_constants['Planck constant over 2 pi in eV s'][0]\n",
    "c = con.physical_constants['speed of light in vacuum'][0]*1e2 #cm/m\n",
    "k = con.physical_constants['Boltzmann constant in eV/K'][0]"
   ]
  },
  {
   "cell_type": "code",
   "execution_count": 2,
   "metadata": {},
   "outputs": [],
   "source": [
    "## This needs to be in a seperate cell from the imports\n",
    "## Matplotlib settings\n",
    "## inspired by http://nipunbatra.github.io/2014/08/latexify/\n",
    "params = {\n",
    "    'text.latex.preamble': ['\\\\usepackage{gensymb}'],\n",
    "    'image.origin': 'lower',\n",
    "    'image.interpolation': 'nearest',\n",
    "    'image.cmap': 'magma',\n",
    "    'axes.grid': False,\n",
    "    'figure.dpi': 150,  # to adjust notebook inline plot size\n",
    "    'savefig.dpi': 150,  # to adjust notebook inline plot size\n",
    "    'axes.labelsize': 12, # fontsize for x and y labels (was 10)\n",
    "    'axes.titlesize': 14,\n",
    "    'font.size': 8, # was 10\n",
    "    'legend.fontsize': 8, # was 10\n",
    "    'xtick.labelsize': 8,\n",
    "    'ytick.labelsize': 8,\n",
    "    'text.usetex': False,\n",
    "#     'figure.figsize': [3.5, 2.625], # 4 x 3\n",
    "#     'figure.figsize': [4, 3], # 4 x 3\n",
    "    'figure.figsize': [4*1.125, 3*1.125], # 4x3, full slide in keynote\n",
    "    'font.family': 'serif',\n",
    "    'figure.max_open_warning':100\n",
    "}\n",
    "mpl.rcParams.update(params)\n"
   ]
  },
  {
   "cell_type": "code",
   "execution_count": 3,
   "metadata": {},
   "outputs": [],
   "source": [
    "def position_operator(basis_size):\n",
    "    \"\"\" Returns matrix representation of the position operator in the \n",
    "        basis of number states. Truncated at dimension 'basis size'. \n",
    "        \"\"\"\n",
    "    x = np.zeros((basis_size, basis_size))\n",
    "    for n in range(basis_size-1):\n",
    "        x[n, n+1] = 1/2**0.5 * np.sqrt(n+1)\n",
    "        x[n+1, n] = 1/2**0.5 * np.sqrt(n+1)\n",
    "    return x"
   ]
  },
  {
   "cell_type": "code",
   "execution_count": 4,
   "metadata": {},
   "outputs": [],
   "source": [
    "def x_tothe_k(k, basis_size):\n",
    "    x = position_operator(basis_size)\n",
    "    return np.linalg.matrix_power(x, k)"
   ]
  },
  {
   "cell_type": "code",
   "execution_count": 5,
   "metadata": {},
   "outputs": [],
   "source": [
    "def ham_g(basis_size, lambda_array):\n",
    "    \"\"\" Returns matrix representation of (unitless) nuclear Hamiltonian \n",
    "        in the electronic ground state for the general anharmonic \n",
    "        oscillator truncated at dimension 'basis_size'. \n",
    "        \n",
    "        The arg 'lambda_array' is expected to be 1D and contains the \n",
    "        scalar prefactors at each order of the polynomial potential \n",
    "        energy surface. The potential is therefore a polynomial of order \n",
    "        len(lambda_array) + 1.\n",
    "        \"\"\"\n",
    "    H_prime = np.zeros((basis_size, basis_size)) \n",
    "    ## Define unperterbed harmonic hamiltonian \n",
    "    H_0 = np.diag(np.arange(0, basis_size))\n",
    "    \n",
    "    poly_order_plus_1 = len(lambda_array)\n",
    "    for order in range(poly_order_plus_1):\n",
    "        H_prime += lambda_array[order]*x_tothe_k(order, basis_size)\n",
    "            \n",
    "    H_g = H_0 + H_prime\n",
    "#     H_g -= np.identity(basis_size)*lambda_array[0]\n",
    "    return H_g\n",
    "\n",
    "def displaced_ham_e(H_g, zp_energy, d):\n",
    "    \"\"\" Returns matrix representation of (unitless) nuclear Hamiltonian \n",
    "        in the electronic ground state for the general anharmonic \n",
    "        oscillator truncated at dimension 'basis_size'. \n",
    "        \n",
    "        The arg 'lambda_array' is expected to be 1D and contains the \n",
    "        scalar prefactors at each order of the polynomial potential \n",
    "        energy surface. The potential is therefore a polynomial of order \n",
    "        len(lambda_array) + 1.\n",
    "        \"\"\" \n",
    "    basis_size = H_g.shape[0]\n",
    "    a = np.zeros((basis_size, basis_size))\n",
    "    for n in range(basis_size-1):\n",
    "        a[n, n+1] = np.sqrt(n+1)\n",
    "    displacement_op = lin.expm(d*a.T - d*a)\n",
    "        \n",
    "    H_e = (\n",
    "        displacement_op @ H_g @ displacement_op.T\n",
    "        + \n",
    "        zp_energy * np.identity(basis_size)\n",
    "        )\n",
    "    return H_e"
   ]
  },
  {
   "cell_type": "code",
   "execution_count": 6,
   "metadata": {},
   "outputs": [],
   "source": [
    "def displaced_lambdas(\n",
    "    lambda_array, \n",
    "    d, \n",
    "    include_H0_contri=True):\n",
    "    \"\"\" Given the polynomial or order n = len('lambda_array')-1\n",
    "            lambda_array[0]\n",
    "            +\n",
    "            lambda_array[1] * x\n",
    "            + \n",
    "            lambda_array[2] * x**2\n",
    "            ...\n",
    "            + \n",
    "            lambda_array[-1] * x**n\n",
    "        this function returns the coefficients upon introducing the \n",
    "        displacement \n",
    "            x -> x-d\n",
    "        \"\"\"\n",
    "    n = len(lambda_array) - 1\n",
    "    \n",
    "    lambda_matrix = np.tri(n+1)\n",
    "    lambda_matrix *= np.asarray(lambda_array)[:, None]\n",
    "    \n",
    "    ## For each term in the polynomial, we need to expand the binolial\n",
    "    ## and resort coefficients into lambda array. \n",
    "    for m in range(0, n+1):\n",
    "         for k in range(0, m):\n",
    "            lambda_matrix[m, k] *= (\n",
    "                spl.factorial(m)/(spl.factorial(k)*spl.factorial(m-k))\n",
    "                )*(-d)**(m-k)\n",
    "    new_lambdas = np.sum(lambda_matrix, axis=0)\n",
    "\n",
    "    if include_H0_contri:\n",
    "        ## Add contribution from displacing H_0\n",
    "        new_lambdas[:2] += [d**2/2, -d]\n",
    "    \n",
    "    return new_lambdas"
   ]
  },
  {
   "cell_type": "code",
   "execution_count": 7,
   "metadata": {},
   "outputs": [
    {
     "data": {
      "text/plain": [
       "array([1., 2., 3., 4.])"
      ]
     },
     "execution_count": 7,
     "metadata": {},
     "output_type": "execute_result"
    }
   ],
   "source": [
    "displaced_lambdas(\n",
    "    [1, 2, 3 ,4], \n",
    "    0,) "
   ]
  },
  {
   "cell_type": "code",
   "execution_count": 98,
   "metadata": {},
   "outputs": [],
   "source": [
    "def rho_e(H_e, T):\n",
    "    if T is 0:\n",
    "        return np.identity(H_e.shape[0])\n",
    "    density_matrix_e = lin.expm(-H_e/(k*T))\n",
    "    density_matrix_e /= np.trace(density_matrix_e)\n",
    "    print('np.trace(density_matrix_e) = ', np.trace(density_matrix_e))\n",
    "    return density_matrix_e"
   ]
  },
  {
   "cell_type": "code",
   "execution_count": 99,
   "metadata": {},
   "outputs": [],
   "source": [
    "def gap_fluc_op(basis_size, lambda_g_array, lambda_e_array, T):\n",
    "    \"\"\" Returns energy gap fluctuation operator \"\"\"\n",
    "    density_matrix_e = rho_e(ham_g(basis_size, lambda_e_array), T=T) \n",
    "    \n",
    "    delta = np.zeros((basis_size, basis_size))\n",
    "    for n in range(len(lambda_e_array)):\n",
    "        xk = x_tothe_k(n, basis_size)\n",
    "        delta += (\n",
    "            (lambda_g_array[n] - lambda_e_array[n])\n",
    "            *\n",
    "            (\n",
    "                xk \n",
    "                - \n",
    "                np.identity(basis_size)\n",
    "                *np.trace(xk@density_matrix_e)\n",
    "                )\n",
    "            )\n",
    "    return delta"
   ]
  },
  {
   "cell_type": "code",
   "execution_count": 10,
   "metadata": {},
   "outputs": [
    {
     "data": {
      "text/plain": [
       "array([[ 8.5       ,  0.        , -0.70710678,  0.        ],\n",
       "       [ 0.        ,  7.5       ,  0.        , -1.22474487],\n",
       "       [-0.70710678,  0.        ,  6.5       ,  0.        ],\n",
       "       [ 0.        , -1.22474487,  0.        ,  7.5       ]])"
      ]
     },
     "execution_count": 10,
     "metadata": {},
     "output_type": "execute_result"
    }
   ],
   "source": [
    "gap_fluc_op(4, [0,0,1], [1,0,2], T=0)"
   ]
  },
  {
   "cell_type": "code",
   "execution_count": 11,
   "metadata": {},
   "outputs": [],
   "source": [
    "def a_matrix(H_e, Delta, order):\n",
    "    miHe = -1j*H_e/hbar\n",
    "    A = np.block([\n",
    "        [miHe,             Delta,  ],\n",
    "        [np.zeros_like(Delta), miHe,]\n",
    "        ])\n",
    "    for o in range(1, order-1):\n",
    "        right_col = np.block([np.zeros_like(Delta)]*o + [Delta]).T\n",
    "        bottom_row = np.block([np.zeros_like(Delta)]*(o+1) + [miHe])\n",
    "    \n",
    "        A = np.block([\n",
    "            [A, right_col],\n",
    "            [bottom_row]\n",
    "            ])\n",
    "    return A"
   ]
  },
  {
   "cell_type": "code",
   "execution_count": 12,
   "metadata": {},
   "outputs": [],
   "source": [
    "def taylor_expm(A, n):\n",
    "    e_A = np.identity(A.shape[-1], dtype='complex')\n",
    "    if A.ndim is 3:\n",
    "        e_A = e_A[None, ...]\n",
    "    for i in range(1, n):\n",
    "        e_A = e_A + (1/spl.factorial(i))*np.linalg.matrix_power(A, i)\n",
    "    return e_A"
   ]
  },
  {
   "cell_type": "code",
   "execution_count": 13,
   "metadata": {},
   "outputs": [],
   "source": [
    "def eigy_expm(A):\n",
    "    vals,vects = np.linalg.eig(A)\n",
    "    return np.einsum('...ik, ...k, ...kj ->...ij',\n",
    "                     vects,np.exp(vals),np.linalg.inv(vects))\n",
    "def loopy_expm(A):\n",
    "    expmA = np.zeros_like(A)\n",
    "    for n in range(A.shape[0]):\n",
    "        expmA[n,...] = lin.expm(A[n,...])\n",
    "    return expmA\n",
    "\n",
    "def big_b_tilde(\n",
    "    t, \n",
    "    order_n, \n",
    "    H_e, \n",
    "    rho_ex, \n",
    "    A=None,\n",
    "    e_At=None,\n",
    "    return_e_At_in_dict=False):\n",
    "    \n",
    "    \"\"\" Return shorthand B_n coefficient from Anda's paper \n",
    "            B_n = (i/hbar)^n * Tr{e^-iH_et [e^At]_[N-n, N] * rho_ex}\n",
    "        \"\"\"\n",
    "#     print(f\"Inside Bn, t = {t}\")\n",
    "    if type(t) is np.ndarray:\n",
    "        H_e = H_e[None, ...]\n",
    "        t = t[:, None, None]\n",
    "        if A is not None:\n",
    "            A = A[None, ...]\n",
    "        exp_func = loopy_expm\n",
    "#         exp_func = lambda a: taylor_expm(a, 100)\n",
    "    else:\n",
    "        exp_func = lin.expm\n",
    "#     print(f\"Shape of H_e inside B_n = {H_e.shape}\")\n",
    "#     print(f\"Shape of A inside B_n = {A.shape}\")\n",
    "        \n",
    "    ## First step compute matrix exponentials at time t\n",
    "    e_iHet = exp_func(1j*H_e*t/hbar)\n",
    "#     print(f\"e_iHet = {e_iHet}\")\n",
    "    if A is not None:\n",
    "        e_At = exp_func(A*t)\n",
    "    \n",
    "#     print(f\"e_At = {e_At}\")\n",
    "    ## Navigate block array\n",
    "    block_size = H_e.shape[-1]\n",
    "    \n",
    "    N = round(e_At.shape[-1]/block_size)\n",
    "#     print(f\" A block indexed from {(N-order_n-1)} to {N-order_n}\")\n",
    "    Bn_array = (\n",
    "        (\n",
    "            -1j\n",
    "            /\n",
    "            hbar\n",
    "            )**order_n \n",
    "        *\n",
    "        e_iHet\n",
    "        @\n",
    "        e_At[\n",
    "            ...,\n",
    "            (N-order_n-1)*block_size:(N-order_n)*block_size, \n",
    "            (N-1)*block_size:\n",
    "            ]\n",
    "        @\n",
    "        rho_ex\n",
    "        )\n",
    "    Bn = np.trace(Bn_array, axis1=-2, axis2=-1)\n",
    "    if return_e_At_in_dict:\n",
    "        return {'B_n':Bn, 'e_At':e_At}\n",
    "    return Bn"
   ]
  },
  {
   "cell_type": "code",
   "execution_count": 14,
   "metadata": {},
   "outputs": [],
   "source": [
    "def flu_lineshape(\n",
    "    omega, \n",
    "    gamma, \n",
    "    H_e,\n",
    "    rho_ex,\n",
    "    A,\n",
    "    t_max=1000,\n",
    "    t_points=100,\n",
    "    return_integrand=False):\n",
    "    \"\"\" Implement equation 31 from Anda \"\"\"\n",
    "    \n",
    "    def integrand(_t):\n",
    "        B_2_dict = big_b_tilde(\n",
    "            _t, \n",
    "            order_n=2, \n",
    "            H_e=H_e, \n",
    "            rho_ex=rho_ex, \n",
    "            A=A,\n",
    "            e_At=None,\n",
    "            return_e_At_in_dict=True)\n",
    "        B_2 = B_2_dict['B_n']\n",
    "        e_At = B_2_dict['e_At']\n",
    "#         print(f\"e_At = {e_At}\")\n",
    "        B_3 = big_b_tilde(\n",
    "            _t, \n",
    "            order_n=3, \n",
    "            H_e=H_e, \n",
    "            rho_ex=rho_ex, \n",
    "#             A = A,\n",
    "            e_At=e_At,\n",
    "            )\n",
    "        B_4 = big_b_tilde(\n",
    "            _t, \n",
    "            order_n=4, \n",
    "            H_e=H_e, \n",
    "            rho_ex=rho_ex, \n",
    "            e_At=e_At,)\n",
    "        B_5 = big_b_tilde(\n",
    "            _t, \n",
    "            order_n=5, \n",
    "            H_e=H_e, \n",
    "            rho_ex=rho_ex, \n",
    "            e_At=e_At,)\n",
    "        B_6 = big_b_tilde(\n",
    "            _t, \n",
    "            order_n=6, \n",
    "            H_e=H_e, \n",
    "            rho_ex=rho_ex, \n",
    "            e_At=e_At,)\n",
    "#         print(f\"B_2 = {B_2}\")\n",
    "#         print(f\"B_3 = {B_3}\")\n",
    "        exp_arg = (\n",
    "            B_2 \n",
    "            + \n",
    "            B_3\n",
    "            ## Stop here fore 3rd order Cum. expansion\n",
    "            +\n",
    "            B_4\n",
    "            -\n",
    "            (B_2**2)/2 \n",
    "            ## Stop here for 4th order Cum. expansion\n",
    "            +\n",
    "            B_5\n",
    "            -\n",
    "            B_2*B_3\n",
    "            ## Stope here fore 5th order Cum. expansion\n",
    "            +\n",
    "            B_6\n",
    "            -\n",
    "            B_2*B_4\n",
    "            -\n",
    "            (B_3**2)/2\n",
    "            +\n",
    "            (B_2**3)/3\n",
    "            )\n",
    "\n",
    "        ## Return integrand with time on last dimensions and omegas on \n",
    "        ## first.\n",
    "#         print(f\"omega = {omega}\")\n",
    "#         print(f\"gamma = {gamma}\")\n",
    "#         print(f\"_t = {_t}\")\n",
    "#         print(f\"exp_arg = {exp_arg}\")\n",
    "        _integrand = np.real(\n",
    "            np.exp(\n",
    "                (-1j*omega[:, None] - gamma)*_t[None, :]\n",
    "                +\n",
    "                exp_arg[None, :]) \n",
    "                )\n",
    "#         print(f\"integrand = {_integrand}\")\n",
    "        return _integrand\n",
    "\n",
    "    ## Build t vector\n",
    "    ts = np.linspace(0, t_max, t_points)*1e-15\n",
    "    \n",
    "    if return_integrand:\n",
    "        return (ts, integrand(ts))\n",
    "    ## Integrate with trapazoid rule\n",
    "    integral = inte.trapz(integrand(ts), ts, axis=-1)\n",
    "    \n",
    "    ## Integrate with scipy quadriture function\n",
    "#     integral = integ.quad(integrand, 0, t_max*1e-15\n",
    "    ## Integrate by direct Rieman sum\n",
    "#     integral = np.zeros(len(omega))\n",
    "#     for t in ts:\n",
    "#         integral += integrand(t)\n",
    "#     integral *= ts[1]-ts[0]\n",
    "    return integral/(2*np.pi*hbar)"
   ]
  },
  {
   "cell_type": "markdown",
   "metadata": {},
   "source": [
    "Plot B2 to compare to Mukamel model "
   ]
  },
  {
   "cell_type": "markdown",
   "metadata": {},
   "source": [
    "# Trying to reproduce Anda's first example"
   ]
  },
  {
   "cell_type": "markdown",
   "metadata": {},
   "source": [
    "The Morse potential expanded to 12th order yields the polynomial, \n",
    "\\begin{multline}\n",
    "    0.500141 x^{2} - 0.0456629 x^{3} + 0.00243193 x^{4} - 0.000095158 x^{5} \\\\\n",
    "    + 2.99251*10^{-6} x^{6} - 7.93207*10^{-8} x^{7} + 1.82486*10^{-9} x^{8} \\\\\n",
    "    - 3.71702*10^{-11} x^{9} + 6.80059*10^{-13} x^{10} - 1.13*10^{-14} x^{11} \\\\\n",
    "    + 1.72033*10^{-16} x^{12}\n",
    "\\end{multline}"
   ]
  },
  {
   "cell_type": "code",
   "execution_count": 113,
   "metadata": {
    "scrolled": false
   },
   "outputs": [],
   "source": [
    "Anda_fig1 = np.loadtxt(\n",
    "    os.path.join('..', 'data', 'Anharmonic_graph.txt'), \n",
    "#     skiprows=0, \n",
    "    delimiter=','\n",
    "    )"
   ]
  },
  {
   "cell_type": "code",
   "execution_count": 105,
   "metadata": {},
   "outputs": [
    {
     "name": "stdout",
     "output_type": "stream",
     "text": [
      "np.trace(density_matrix_e) =  0.9999999999999998\n",
      "np.trace(density_matrix_e) =  0.9999999999999998\n"
     ]
    }
   ],
   "source": [
    "mor_lam_g = [\n",
    "    0,\n",
    "    0,\n",
    "    0.500141 - .5, ## to account for H_0 \n",
    "    - 0.0456629,\n",
    "    0.00243193,\n",
    "    - 0.000095158,\n",
    "    2.99251*1e-6,\n",
    "    - 7.93207*1e-8,\n",
    "    + 1.82486*1e-9,\n",
    "    - 3.71702*1e-11,\n",
    "    6.80059*1e-13,\n",
    "    - 1.13*1e-14,\n",
    "    + 1.72033*1e-16,\n",
    "    ]\n",
    "\n",
    "d = 1.6\n",
    "\n",
    "## Number of oscillator states used for representation of general \n",
    "## potential energy eigenstates\n",
    "basis_size = 20\n",
    "## Energy spacing of unperterbed vibration\n",
    "hbarw0_mor = 1\n",
    "\n",
    "## Build excited state lambdas from ground state and displacement\n",
    "mor_lam_e = displaced_lambdas(mor_lam_g, d=d)\n",
    "\n",
    "## Assign the temperature\n",
    "T_mor = .3*hbarw0_mor/k\n",
    "\n",
    "## Define Vibrational Hamiltonians in units of energy (by multiplying by \n",
    "## the unperturbed vibrational energy spacing).\n",
    "## -----\n",
    "## Vibrational Hamiltonian in the electronic ground state\n",
    "Hg_mor = ham_g(basis_size, mor_lam_g)*hbarw0_mor\n",
    "## Vibrational Hamiltonian in the electronic excited state\n",
    "He_mor = ham_g(basis_size, mor_lam_e)*hbarw0_mor\n",
    "\n",
    "## Define the Energy Gap fluctuation operator (in units of energy as for \n",
    "## the vibrational Hamiltonians above)\n",
    "D_mor = gap_fluc_op(basis_size, mor_lam_g, mor_lam_e, T_mor)*hbarw0_mor\n",
    "## Define the A matrix for use in the matrix eponential theorm used to\n",
    "## calculate the Cumulants. \n",
    "A_mor = a_matrix(He_mor, D_mor, order=7)\n",
    "## Define density matrix from operators already define. \n",
    "rho_mor = rho_e(He_mor, T_mor)\n"
   ]
  },
  {
   "cell_type": "code",
   "execution_count": 106,
   "metadata": {},
   "outputs": [],
   "source": [
    "hbar_omegas_mor = np.linspace(-5, 5, 200)\n",
    "lineshape_mor = flu_lineshape(\n",
    "    omega=hbar_omegas_mor/hbar, \n",
    "    gamma=.18/hbar, \n",
    "    H_e=He_mor,\n",
    "    rho_ex=rho_mor,\n",
    "    A=A_mor,\n",
    "    t_max=30,\n",
    "    t_points=600,\n",
    "    # return_integrand=True\n",
    "    )"
   ]
  },
  {
   "cell_type": "code",
   "execution_count": 114,
   "metadata": {
    "scrolled": false
   },
   "outputs": [],
   "source": [
    "## Plot integrand in time domain\n",
    "# ts, integrands = lineshape_mor\n",
    "# for integ in integrands:\n",
    "#     plt.plot(ts, integ)"
   ]
  },
  {
   "cell_type": "code",
   "execution_count": 119,
   "metadata": {},
   "outputs": [],
   "source": [
    "def mag_norm(y_values):\n",
    "    max=np.max(y_values)\n",
    "    \n",
    "    return y_values/max\n",
    "\n",
    "# def norm(y_values):\n",
    "#     \"\"\" Magnitude normalize data. \"\"\"\n",
    "#     return y_values/y_values.max()\n"
   ]
  },
  {
   "cell_type": "code",
   "execution_count": 120,
   "metadata": {
    "scrolled": false
   },
   "outputs": [
    {
     "data": {
      "text/plain": [
       "<matplotlib.legend.Legend at 0x21b880e9e48>"
      ]
     },
     "execution_count": 120,
     "metadata": {},
     "output_type": "execute_result"
    },
    {
     "data": {
      "image/png": "[encoded data removed]",
      "text/plain": [
       "<Figure size 675x506.25 with 1 Axes>"
      ]
     },
     "metadata": {
      "needs_background": "light"
     },
     "output_type": "display_data"
    }
   ],
   "source": [
    "plt.plot(\n",
    "    hbar_omegas_mor-d**2/2, \n",
    "    mag_norm(lineshape_mor), \n",
    "    label='model'\n",
    "    )\n",
    "plt.plot(\n",
    "    Anda_fig1.T[0], \n",
    "    mag_norm(Anda_fig1.T[1]), \n",
    "    label='Anda' \n",
    "    )\n",
    "\n",
    "plt.xlabel(r'$\\frac{\\omega - \\omega_{eg}}{\\omega_0}$', fontsize=10)\n",
    "plt.ylabel(r'Emission Lineshape [a.u.]', fontsize=10)\n",
    "plt.axvline(0, c='k')\n",
    "\n",
    "plt.legend()"
   ]
  },
  {
   "cell_type": "code",
   "execution_count": 132,
   "metadata": {
    "scrolled": false
   },
   "outputs": [
    {
     "data": {
      "text/plain": [
       "<matplotlib.legend.Legend at 0x21b8524eb08>"
      ]
     },
     "execution_count": 132,
     "metadata": {},
     "output_type": "execute_result"
    },
    {
     "data": {
      "image/png": "[encoded data removed]",
      "text/plain": [
       "<Figure size 675x506.25 with 1 Axes>"
      ]
     },
     "metadata": {
      "needs_background": "light"
     },
     "output_type": "display_data"
    }
   ],
   "source": [
    "plt.plot(\n",
    "    hbar_omegas_mor-d**2/2, \n",
    "    (lineshape_mor), \n",
    "    label='model'\n",
    "    )\n",
    "plt.plot(\n",
    "    Anda_fig1.T[0], \n",
    "    (Anda_fig1.T[1]), \n",
    "    label='Anda' \n",
    "    )\n",
    "\n",
    "plt.xlabel(r'$\\frac{\\omega - \\omega_{eg}}{\\omega_0}$', fontsize=10)\n",
    "plt.ylabel(r'Emission Lineshape [a.u.]', fontsize=10)\n",
    "plt.axvline(0, c='k')\n",
    "\n",
    "plt.legend()"
   ]
  },
  {
   "cell_type": "code",
   "execution_count": 127,
   "metadata": {},
   "outputs": [],
   "source": [
    "trimmed_fig = Anda_fig1.T[0][np.argwhere(Anda_fig1.T[0]<3)]"
   ]
  },
  {
   "cell_type": "code",
   "execution_count": 129,
   "metadata": {
    "scrolled": true
   },
   "outputs": [
    {
     "name": "stdout",
     "output_type": "stream",
     "text": [
      "[[0.00554707 0.00554707 0.00599151 ... 0.00998473 0.00998473 0.00998473]\n",
      " [0.00553795 0.00553795 0.00598166 ... 0.00996831 0.00996831 0.00996831]\n",
      " [0.00552887 0.00552887 0.00597185 ... 0.00995197 0.00995197 0.00995197]\n",
      " ...\n",
      " [0.00291665 0.00291665 0.00315033 ... 0.00524997 0.00524997 0.00524997]\n",
      " [0.00288456 0.00288456 0.00311567 ... 0.0051922  0.0051922  0.0051922 ]\n",
      " [0.00285646 0.00285646 0.00308532 ... 0.00514163 0.00514163 0.00514163]]\n"
     ]
    }
   ],
   "source": [
    "interped_model = interp.interp1d(hbar_omegas_mor-d**2/2, lineshape_mor)\n",
    "\n",
    "diff = interped_model(trimmed_fig) / Anda_fig1.T[1]\n",
    "\n",
    "print(diff)"
   ]
  },
  {
   "cell_type": "code",
   "execution_count": 130,
   "metadata": {},
   "outputs": [
    {
     "name": "stdout",
     "output_type": "stream",
     "text": [
      "72.04424950837522\n"
     ]
    }
   ],
   "source": [
    "max_Anda = np.max(Anda_fig1.T[1])\n",
    "max_model = np.max(lineshape_mor)\n",
    "factor_off = max_Anda/max_model\n",
    "print(factor_off)"
   ]
  },
  {
   "cell_type": "code",
   "execution_count": 141,
   "metadata": {},
   "outputs": [
    {
     "name": "stdout",
     "output_type": "stream",
     "text": [
      "-1.0239 -1.1543718592964822 0.1304718592964822\n"
     ]
    }
   ],
   "source": [
    "energy_max_Anda = Anda_fig1.T[0][np.argmax(Anda_fig1.T[1])]\n",
    "energy_max_model =  (hbar_omegas_mor-d**2/2)[np.argmax(lineshape_mor)] \n",
    "\n",
    "energy_shift =  energy_max_Anda - energy_max_model\n",
    "\n",
    "print(energy_max_Anda, energy_max_model, energy_shift)"
   ]
  },
  {
   "cell_type": "code",
   "execution_count": 149,
   "metadata": {},
   "outputs": [
    {
     "data": {
      "text/plain": [
       "9.810544640828246"
      ]
     },
     "execution_count": 149,
     "metadata": {},
     "output_type": "execute_result"
    }
   ],
   "source": [
    "(d**2/2)/energy_shift"
   ]
  },
  {
   "cell_type": "markdown",
   "metadata": {},
   "source": [
    "# General Morse potential excited state"
   ]
  },
  {
   "cell_type": "code",
   "execution_count": 71,
   "metadata": {},
   "outputs": [],
   "source": [
    "def lambda_generator_Morse(a, D):\n",
    "    \"\"\" This is a function that returns the lambda prefactors for a Morse\n",
    "        Potential expanded to 12th order. \n",
    "        \n",
    "        Returns:\n",
    "        -------\n",
    "            lambdas: an array of perterbed polynomial prefactors determined from Mathematica\n",
    "        \"\"\"\n",
    "    lambdas = np.array([\n",
    "        0, \n",
    "        0,\n",
    "        ## Make sure to subtract .5 from harmonic term to accound for the \n",
    "        ## unperterbed potential \n",
    "        a**2. * D - 0.5,\n",
    "        -a**3. * D,\n",
    "        (7/12) * a**4 * D,\n",
    "        (-1/4) * a**5 * D,\n",
    "        (31/360) * a**6 * D,\n",
    "        (-1/40) * a**7 * D,\n",
    "        (127/20160) * a**8 * D,\n",
    "        (-17/12096) * a**9 * D,\n",
    "        (73/259200) * a**10 * D,\n",
    "        (-31/604800) * a**11 * D,\n",
    "        (2047/239500800) * a**12 * D,\n",
    "        ])\n",
    "\n",
    "    \n",
    "    return lambdas"
   ]
  },
  {
   "cell_type": "code",
   "execution_count": 87,
   "metadata": {
    "scrolled": false
   },
   "outputs": [
    {
     "data": {
      "text/plain": [
       "array([ 0.00000000e+00,  0.00000000e+00, -4.91900000e-01, -7.29000000e-04,\n",
       "        3.82725000e-05, -1.47622500e-06,  4.57629750e-08, -1.19574225e-09,\n",
       "        2.71177260e-11, -5.44489775e-13,  9.82003323e-15, -1.60848685e-16,\n",
       "        2.41390952e-18])"
      ]
     },
     "execution_count": 87,
     "metadata": {},
     "output_type": "execute_result"
    }
   ],
   "source": [
    "lambda_generator_Morse(alpha, D)"
   ]
  },
  {
   "cell_type": "code",
   "execution_count": 96,
   "metadata": {},
   "outputs": [
    {
     "data": {
      "text/plain": [
       "array([ 1.43934522e+00, -1.93183051e+00,  2.35138423e-01, -6.09465157e-02,\n",
       "        3.12145294e-03, -1.19191781e-04,  3.67804546e-06, -9.58934386e-08,\n",
       "        2.17237112e-09, -4.35859814e-11,  7.83529454e-13, -1.24317449e-14,\n",
       "        1.44834571e-16])"
      ]
     },
     "execution_count": 96,
     "metadata": {},
     "output_type": "execute_result"
    }
   ],
   "source": [
    "displaced_lambdas(lambda_generator_Morse(alpha, D), d=1.6)"
   ]
  },
  {
   "cell_type": "code",
   "execution_count": 100,
   "metadata": {},
   "outputs": [
    {
     "name": "stdout",
     "output_type": "stream",
     "text": [
      "np.trace(density_matrix_e) =  nan\n"
     ]
    },
    {
     "name": "stderr",
     "output_type": "stream",
     "text": [
      "C:\\Users\\emily\\Miniconda3\\lib\\site-packages\\ipykernel_launcher.py:5: RuntimeWarning: invalid value encountered in true_divide\n",
      "  \"\"\"\n"
     ]
    }
   ],
   "source": [
    "## Energy spacing of unperterbed vibration\n",
    "hbarw0_mor = 1\n",
    "# D = hbarw0_mor\n",
    "D = 60\n",
    "alpha = 0.09\n",
    "gamma=.18/hbar\n",
    "\n",
    "mor_lam_g = lambda_generator_Morse(D, alpha)\n",
    "\n",
    "## Build excited state lambdas from ground state and displacement\n",
    "mor_lam_e = displaced_lambdas(mor_lam_g, d=1.6)\n",
    "\n",
    "## Assign the temperature\n",
    "T_mor = 294\n",
    "\n",
    "## Number of oscillator states used for representation of general \n",
    "## potential energy eigenstates\n",
    "basis_size = 20\n",
    "## Define Vibrational Hamiltonians in units of energy (by multiplying by \n",
    "## the unperturbed vibrational energy spacing).\n",
    "## -----\n",
    "## Vibrational Hamiltonian in the electronic ground state\n",
    "Hg_mor = ham_g(basis_size, mor_lam_g)*hbarw0_mor\n",
    "## Vibrational Hamiltonian in the electronic excited state\n",
    "He_mor = ham_g(basis_size, mor_lam_e)*hbarw0_mor\n",
    "\n",
    "## Define the Energy Gap fluctuation operator (in units of energy as for \n",
    "## the vibrational Hamiltonians above)\n",
    "D_mor = gap_fluc_op(basis_size, mor_lam_g, mor_lam_e, T_mor)*hbarw0_mor\n",
    "# ## Define the A matrix for use in the matrix eponential theorm used to\n",
    "# ## calculate the Cumulants. \n",
    "# A_mor = a_matrix(He_mor, D_mor, order=7)\n",
    "# ## Define density matrix from operators already define. \n",
    "# rho_mor = rho_e(He_mor, T_mor)\n"
   ]
  },
  {
   "cell_type": "code",
   "execution_count": 79,
   "metadata": {},
   "outputs": [
    {
     "name": "stderr",
     "output_type": "stream",
     "text": [
      "C:\\Users\\emily\\Miniconda3\\lib\\site-packages\\ipykernel_launcher.py:87: RuntimeWarning: overflow encountered in exp\n",
      "C:\\Users\\emily\\Miniconda3\\lib\\site-packages\\numpy\\lib\\function_base.py:4062: RuntimeWarning: invalid value encountered in add\n",
      "  ret = (d * (y[tuple(slice1)] + y[tuple(slice2)]) / 2.0).sum(axis)\n",
      "C:\\Users\\emily\\Miniconda3\\lib\\site-packages\\numpy\\core\\_methods.py:38: RuntimeWarning: invalid value encountered in reduce\n",
      "  return umr_sum(a, axis, dtype, out, keepdims, initial, where)\n"
     ]
    }
   ],
   "source": [
    "hbar_omegas_mor = np.linspace(-2, 2, 200)\n",
    "lineshape_mor = flu_lineshape(\n",
    "    omega=hbar_omegas_mor/hbar, \n",
    "    gamma= gamma, \n",
    "    H_e=He_mor,\n",
    "    rho_ex=rho_mor,\n",
    "    A=A_mor,\n",
    "    t_max=200,\n",
    "    t_points=600,\n",
    "#     return_integrand=True\n",
    "    )"
   ]
  },
  {
   "cell_type": "code",
   "execution_count": 77,
   "metadata": {},
   "outputs": [
    {
     "data": {
      "text/plain": [
       "Text(0, 0.5, 'Emission Lineshape [a.u.]')"
      ]
     },
     "execution_count": 77,
     "metadata": {},
     "output_type": "execute_result"
    },
    {
     "data": {
      "image/png": "[encoded data removed]",
      "text/plain": [
       "<Figure size 675x506.25 with 1 Axes>"
      ]
     },
     "metadata": {
      "needs_background": "light"
     },
     "output_type": "display_data"
    }
   ],
   "source": [
    "plt.plot(hbar_omegas_mor, lineshape_mor)\n",
    "plt.xlabel(r'$\\frac{\\omega - \\omega_{eg}}{\\omega_0}$', fontsize=10)\n",
    "plt.ylabel(r'Emission Lineshape [a.u.]', fontsize=10)"
   ]
  },
  {
   "cell_type": "code",
   "execution_count": null,
   "metadata": {},
   "outputs": [],
   "source": []
  }
 ],
 "metadata": {
  "kernelspec": {
   "display_name": "Python 3",
   "language": "python",
   "name": "python3"
  },
  "language_info": {
   "codemirror_mode": {
    "name": "ipython",
    "version": 3
   },
   "file_extension": ".py",
   "mimetype": "text/x-python",
   "name": "python",
   "nbconvert_exporter": "python",
   "pygments_lexer": "ipython3",
   "version": "3.7.4"
  }
 },
 "nbformat": 4,
 "nbformat_minor": 4
}
