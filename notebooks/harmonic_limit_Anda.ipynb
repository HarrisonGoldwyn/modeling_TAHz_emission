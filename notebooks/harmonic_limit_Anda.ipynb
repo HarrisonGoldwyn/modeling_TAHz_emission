{
 "cells": [
  {
   "cell_type": "code",
   "execution_count": 1,
   "metadata": {},
   "outputs": [],
   "source": [
    "import numpy as np\n",
    "\n",
    "import matplotlib.pyplot as plt\n",
    "import matplotlib as mpl\n",
    "\n",
    "import scipy.linalg as lin\n",
    "import scipy.special as spl\n",
    "import scipy.integrate as inte\n",
    "\n",
    "## Get physical constants from Scipy\n",
    "import scipy.constants as con\n",
    "## Some useful numerical constants\n",
    "hbar = con.physical_constants['Planck constant over 2 pi in eV s'][0]\n",
    "c = con.physical_constants['speed of light in vacuum'][0]*1e2 #cm/m\n",
    "k = con.physical_constants['Boltzmann constant in eV/K'][0]"
   ]
  },
  {
   "cell_type": "code",
   "execution_count": 2,
   "metadata": {},
   "outputs": [],
   "source": [
    "## This needs to be in a seperate cell from the imports\n",
    "## Matplotlib settings\n",
    "## inspired by http://nipunbatra.github.io/2014/08/latexify/\n",
    "params = {\n",
    "    'text.latex.preamble': ['\\\\usepackage{gensymb}'],\n",
    "    'image.origin': 'lower',\n",
    "    'image.interpolation': 'nearest',\n",
    "    'image.cmap': 'magma',\n",
    "    'axes.grid': False,\n",
    "    'figure.dpi': 150,  # to adjust notebook inline plot size\n",
    "    'savefig.dpi': 150,  # to adjust notebook inline plot size\n",
    "    'axes.labelsize': 12, # fontsize for x and y labels (was 10)\n",
    "    'axes.titlesize': 14,\n",
    "    'font.size': 8, # was 10\n",
    "    'legend.fontsize': 8, # was 10\n",
    "    'xtick.labelsize': 8,\n",
    "    'ytick.labelsize': 8,\n",
    "    'text.usetex': True,\n",
    "#     'figure.figsize': [3.5, 2.625], # 4 x 3\n",
    "#     'figure.figsize': [4, 3], # 4 x 3\n",
    "    'figure.figsize': [4*1.125, 3*1.125], # 4x3, full slide in keynote\n",
    "    'font.family': 'serif',\n",
    "    'figure.max_open_warning':100\n",
    "}\n",
    "mpl.rcParams.update(params)\n"
   ]
  },
  {
   "cell_type": "code",
   "execution_count": 3,
   "metadata": {},
   "outputs": [],
   "source": [
    "def position_operator(basis_size):\n",
    "    \"\"\" Returns matrix representation of the position operator in the \n",
    "        basis of number states. Truncated at dimension 'basis size'. \n",
    "        \"\"\"\n",
    "    x = np.zeros((basis_size, basis_size))\n",
    "    for n in range(basis_size-1):\n",
    "        x[n, n+1] = 1/2**0.5 * np.sqrt(n+1)\n",
    "        x[n+1, n] = 1/2**0.5 * np.sqrt(n+1)\n",
    "    return x"
   ]
  },
  {
   "cell_type": "code",
   "execution_count": 4,
   "metadata": {},
   "outputs": [],
   "source": [
    "def x_tothe_k(k, basis_size):\n",
    "    x = position_operator(basis_size)\n",
    "    return np.linalg.matrix_power(x, k)"
   ]
  },
  {
   "cell_type": "code",
   "execution_count": 5,
   "metadata": {},
   "outputs": [],
   "source": [
    "def ham_g(basis_size, lambda_array):\n",
    "    \"\"\" Returns matrix representation of (unitless) nuclear Hamiltonian \n",
    "        in the electronic ground state for the general anharmonic \n",
    "        oscillator truncated at dimension 'basis_size'. \n",
    "        \n",
    "        The arg 'lambda_array' is expected to be 1D and contains the \n",
    "        scalar prefactors at each order of the polynomial potential \n",
    "        energy surface. The potential is therefore a polynomial of order \n",
    "        len(lambda_array) + 1.\n",
    "        \"\"\"\n",
    "    H_prime = np.zeros((basis_size, basis_size)) \n",
    "    ## Define unperterbed harmonic hamiltonian \n",
    "    H_0 = np.diag(np.arange(0, basis_size))\n",
    "    \n",
    "    poly_order_plus_1 = len(lambda_array)\n",
    "    for order in range(poly_order_plus_1):\n",
    "        H_prime += lambda_array[order]*x_tothe_k(order, basis_size)\n",
    "            \n",
    "    H_g = H_0 + H_prime\n",
    "    return H_g\n",
    "\n",
    "def displaced_ham_e(H_g, zp_energy, d):\n",
    "    \"\"\" Returns matrix representation of (unitless) nuclear Hamiltonian \n",
    "        in the electronic ground state for the general anharmonic \n",
    "        oscillator truncated at dimension 'basis_size'. \n",
    "        \n",
    "        The arg 'lambda_array' is expected to be 1D and contains the \n",
    "        scalar prefactors at each order of the polynomial potential \n",
    "        energy surface. The potential is therefore a polynomial of order \n",
    "        len(lambda_array) + 1.\n",
    "        \"\"\" \n",
    "    basis_size = H_g.shape[0]\n",
    "    a = np.zeros((basis_size, basis_size))\n",
    "    for n in range(basis_size-1):\n",
    "        a[n, n+1] = np.sqrt(n+1)\n",
    "    displacement_op = lin.expm(d*a.T - d*a)\n",
    "        \n",
    "    H_e = (\n",
    "        displacement_op @ H_g @ displacement_op.T\n",
    "        + \n",
    "        zp_energy * np.identity(basis_size)\n",
    "        )\n",
    "    return H_e"
   ]
  },
  {
   "cell_type": "code",
   "execution_count": 6,
   "metadata": {},
   "outputs": [],
   "source": [
    "def displaced_lambdas(\n",
    "    lambda_array, \n",
    "    d, \n",
    "    include_H0_contri=True):\n",
    "    \"\"\" Given the polynomial or order n = len('lambda_array')-1\n",
    "            lambda_array[0]\n",
    "            +\n",
    "            lambda_array[1] * x\n",
    "            + \n",
    "            lambda_array[2] * x**2\n",
    "            ...\n",
    "            + \n",
    "            lambda_array[-1] * x**n\n",
    "        this function returns the coefficients upon introducing the \n",
    "        displacement \n",
    "            x -> x-d\n",
    "        \"\"\"\n",
    "    n = len(lambda_array) - 1\n",
    "    \n",
    "    lambda_matrix = np.tri(n+1)\n",
    "    lambda_matrix *= np.asarray(lambda_array)[:, None]\n",
    "    \n",
    "    ## For each term in the polynomial, we need to expand the binolial\n",
    "    ## and resort coefficients into lambda array. \n",
    "    for m in range(0, n+1):\n",
    "         for k in range(0, m):\n",
    "            lambda_matrix[m, k] *= (\n",
    "                spl.factorial(m)/(spl.factorial(k)*spl.factorial(m-k))\n",
    "                )*(-d)**(m-k)\n",
    "    new_lambdas = np.sum(lambda_matrix, axis=0)\n",
    "\n",
    "    if include_H0_contri:\n",
    "        ## Add contribution from displacing H_0\n",
    "        new_lambdas[:2] += [d**2/2, -d]\n",
    "    \n",
    "    return new_lambdas"
   ]
  },
  {
   "cell_type": "code",
   "execution_count": 7,
   "metadata": {},
   "outputs": [
    {
     "data": {
      "text/plain": [
       "array([1., 2., 3., 4.])"
      ]
     },
     "execution_count": 7,
     "metadata": {},
     "output_type": "execute_result"
    }
   ],
   "source": [
    "displaced_lambdas(\n",
    "    [1, 2, 3 ,4], \n",
    "    0,) "
   ]
  },
  {
   "cell_type": "code",
   "execution_count": 361,
   "metadata": {},
   "outputs": [],
   "source": [
    "def rho_e(H_e, T):\n",
    "    if T is 0:\n",
    "        return np.identity(H_e.shape[0])\n",
    "    density_matrix_e = lin.expm(-H_e/(k*T))\n",
    "    density_matrix_e /= np.trace(density_matrix_e)\n",
    "    return density_matrix_e"
   ]
  },
  {
   "cell_type": "code",
   "execution_count": 362,
   "metadata": {},
   "outputs": [],
   "source": [
    "def gap_fluc_op(basis_size, lambda_g_array, lambda_e_array, T):\n",
    "    \"\"\" Returns energy gap fluctuation operator \"\"\"\n",
    "    density_matrix_e = rho_e(ham_g(basis_size, lambda_e_array), T=T) \n",
    "    \n",
    "    delta = np.zeros((basis_size, basis_size))\n",
    "    for n in range(len(lambda_e_array)):\n",
    "        xk = x_tothe_k(n, basis_size)\n",
    "        delta += (\n",
    "            (lambda_g_array[n] - lambda_e_array[n])\n",
    "            *\n",
    "            (xk - np.trace(xk@density_matrix_e)))\n",
    "    return delta"
   ]
  },
  {
   "cell_type": "code",
   "execution_count": 363,
   "metadata": {},
   "outputs": [
    {
     "data": {
      "text/plain": [
       "array([[ 8.5       , 10.        ,  9.29289322, 10.        ],\n",
       "       [10.        ,  7.5       , 10.        ,  8.77525513],\n",
       "       [ 9.29289322, 10.        ,  6.5       , 10.        ],\n",
       "       [10.        ,  8.77525513, 10.        ,  7.5       ]])"
      ]
     },
     "execution_count": 363,
     "metadata": {},
     "output_type": "execute_result"
    }
   ],
   "source": [
    "gap_fluc_op(4, [0,0,1], [1,0,2], T=0)"
   ]
  },
  {
   "cell_type": "code",
   "execution_count": 364,
   "metadata": {},
   "outputs": [],
   "source": [
    "def a_matrix(H_e, Delta, order):\n",
    "    miHe = -1j*H_e/hbar\n",
    "    A = np.block([\n",
    "        [miHe,             Delta,  ],\n",
    "        [np.zeros_like(Delta), miHe,]\n",
    "        ])\n",
    "    for o in range(1, order-1):\n",
    "        right_col = np.block([np.zeros_like(Delta)]*o + [Delta]).T\n",
    "        bottom_row = np.block([np.zeros_like(Delta)]*(o+1) + [miHe])\n",
    "    \n",
    "        A = np.block([\n",
    "            [A, right_col],\n",
    "            [bottom_row]\n",
    "            ])\n",
    "    return A"
   ]
  },
  {
   "cell_type": "code",
   "execution_count": 365,
   "metadata": {},
   "outputs": [],
   "source": [
    "def taylor_expm(A, n):\n",
    "    e_A = np.identity(A.shape[-1], dtype='complex')\n",
    "    if A.ndim is 3:\n",
    "        e_A = e_A[None, ...]\n",
    "    for i in range(1, n):\n",
    "        e_A = e_A + (1/spl.factorial(i))*np.linalg.matrix_power(A, i)\n",
    "    return e_A"
   ]
  },
  {
   "cell_type": "code",
   "execution_count": 366,
   "metadata": {},
   "outputs": [],
   "source": [
    "def eigy_expm(A):\n",
    "    vals,vects = np.linalg.eig(A)\n",
    "    return np.einsum('...ik, ...k, ...kj ->...ij',\n",
    "                     vects,np.exp(vals),np.linalg.inv(vects))\n",
    "def loopy_expm(A):\n",
    "    expmA = np.zeros_like(A)\n",
    "    for n in range(A.shape[0]):\n",
    "        expmA[n,...] = lin.expm(A[n,...])\n",
    "    return expmA\n",
    "\n",
    "def big_b_tilde(\n",
    "    t, \n",
    "    order_n, \n",
    "    H_e, \n",
    "    rho_ex, \n",
    "    A=None,\n",
    "    e_At=None,\n",
    "    return_e_At_in_dict=False):\n",
    "    \n",
    "    \"\"\" Return shorthand B_n coefficient from Anda's paper \n",
    "            B_n = (i/hbar)^n * Tr{e^-iH_et [e^At]_[N-n, N] * rho_ex}\n",
    "        \"\"\"\n",
    "#     print(f\"Inside Bn, t = {t}\")\n",
    "    if type(t) is np.ndarray:\n",
    "        H_e = H_e[None, ...]\n",
    "        t = t[:, None, None]\n",
    "        if A is not None:\n",
    "            A = A[None, ...]\n",
    "        exp_func = loopy_expm\n",
    "#         exp_func = lambda a: taylor_expm(a, 100)\n",
    "    else:\n",
    "        exp_func = lin.expm\n",
    "#     print(f\"Shape of H_e inside B_n = {H_e.shape}\")\n",
    "#     print(f\"Shape of A inside B_n = {A.shape}\")\n",
    "        \n",
    "    ## First step compute matrix exponentials at time t\n",
    "    e_iHet = exp_func(1j*H_e*t/hbar)\n",
    "#     print(f\"e_iHet = {e_iHet}\")\n",
    "    if A is not None:\n",
    "        e_At = exp_func(A*t)\n",
    "    \n",
    "#     print(f\"e_At = {e_At}\")\n",
    "    ## Navigate block array\n",
    "    block_size = H_e.shape[-1]\n",
    "    \n",
    "    N = round(e_At.shape[-1]/block_size)\n",
    "#     print(f\" A block indexed from {(N-order_n-1)} to {N-order_n}\")\n",
    "    Bn_array = (\n",
    "        (\n",
    "            -1j\n",
    "            /\n",
    "            hbar\n",
    "            )**order_n \n",
    "        *\n",
    "        e_iHet\n",
    "        @\n",
    "        e_At[\n",
    "            ...,\n",
    "            (N-order_n-1)*block_size:(N-order_n)*block_size, \n",
    "            (N-1)*block_size:\n",
    "            ]\n",
    "        @\n",
    "        rho_ex\n",
    "        )\n",
    "    Bn = np.trace(Bn_array, axis1=-2, axis2=-1)\n",
    "    if return_e_At_in_dict:\n",
    "        return {'B_n':Bn, 'e_At':e_At}\n",
    "    return Bn"
   ]
  },
  {
   "cell_type": "code",
   "execution_count": null,
   "metadata": {},
   "outputs": [],
   "source": []
  },
  {
   "cell_type": "code",
   "execution_count": 367,
   "metadata": {},
   "outputs": [],
   "source": [
    "def flu_lineshape(\n",
    "    omega, \n",
    "    gamma, \n",
    "    H_e,\n",
    "    rho_ex,\n",
    "    A,\n",
    "    t_max=1000,\n",
    "    t_points=100,\n",
    "    return_integrand=False):\n",
    "    \"\"\" Implement equation 31 from Anda \"\"\"\n",
    "    \n",
    "    def integrand(_t):\n",
    "        B_2_dict = big_b_tilde(\n",
    "            _t, \n",
    "            order_n=2, \n",
    "            H_e=H_e, \n",
    "            rho_ex=rho_ex, \n",
    "            A=A,\n",
    "            e_At=None,\n",
    "            return_e_At_in_dict=True)\n",
    "        B_2 = B_2_dict['B_n']\n",
    "        e_At = B_2_dict['e_At']\n",
    "#         print(f\"e_At = {e_At}\")\n",
    "#         B_3 = big_b_tilde(\n",
    "#             _t, \n",
    "#             order_n=3, \n",
    "#             H_e=H_e, \n",
    "#             rho_ex=rho_ex, \n",
    "# #             A = A,\n",
    "#             e_At=e_At,\n",
    "#             )\n",
    "#         B_4 = big_b_tilde(\n",
    "#             _t, \n",
    "#             order_n=4, \n",
    "#             H_e=H_e, \n",
    "#             rho_ex=rho_ex, \n",
    "#             e_At=e_At,)\n",
    "#         B_5 = big_b_tilde(\n",
    "#             _t, \n",
    "#             order_n=5, \n",
    "#             H_e=H_e, \n",
    "#             rho_ex=rho_ex, \n",
    "#             e_At=e_At,)\n",
    "#         B_6 = big_b_tilde(\n",
    "#             _t, \n",
    "#             order_n=6, \n",
    "#             H_e=H_e, \n",
    "#             rho_ex=rho_ex, \n",
    "#             e_At=e_At,)\n",
    "#         print(f\"B_2 = {B_2}\")\n",
    "#         print(f\"B_3 = {B_3}\")\n",
    "        exp_arg = (\n",
    "            B_2 \n",
    "#             + \n",
    "#             B_3\n",
    "#             ## Stop here fore 3rd order Cum. expansion\n",
    "#             +\n",
    "#             B_4\n",
    "#             -\n",
    "#             (B_2**2)/2 \n",
    "#             ## Stop here for 4th order Cum. expansion\n",
    "#             +\n",
    "#             B_5\n",
    "#             -\n",
    "#             B_2*B_3\n",
    "#             ## Stope here fore 5th order Cum. expansion\n",
    "#             +\n",
    "#             B_6\n",
    "#             -\n",
    "#             B_2*B_4\n",
    "#             -\n",
    "#             (B_3**2)/2\n",
    "#             +\n",
    "#             (B_2**3)/3\n",
    "            )\n",
    "\n",
    "        ## Return integrand with time on last dimensions and omegas on \n",
    "        ## first.\n",
    "#         print(f\"omega = {omega}\")\n",
    "#         print(f\"gamma = {gamma}\")\n",
    "#         print(f\"_t = {_t}\")\n",
    "#         print(f\"exp_arg = {exp_arg}\")\n",
    "        _integrand = np.real(\n",
    "            np.exp(\n",
    "                (-1j*omega[:, None] - gamma)*_t[None, :]\n",
    "                +\n",
    "                exp_arg[None, :]) \n",
    "            )\n",
    "#         print(f\"integrand = {_integrand}\")\n",
    "        return _integrand\n",
    "\n",
    "    ## Build t vector\n",
    "    ts = np.linspace(0, t_max, t_points)*1e-15\n",
    "    \n",
    "    if return_integrand:\n",
    "        return (ts, integrand(ts))\n",
    "    ## Integrate with trapazoid rule\n",
    "    integral = inte.trapz(integrand(ts), ts, axis=-1)\n",
    "    \n",
    "    ## Integrate with scipy quadriture function\n",
    "#     integral = integ.quad(integrand, 0, t_max*1e-15\n",
    "    ## Integrate by direct Rieman sum\n",
    "#     integral = np.zeros(len(omega))\n",
    "#     for t in ts:\n",
    "#         integral += integrand(t)\n",
    "#     integral *= ts[1]-ts[0]\n",
    "    return integral/(2*np.pi*hbar)"
   ]
  },
  {
   "cell_type": "code",
   "execution_count": 412,
   "metadata": {},
   "outputs": [],
   "source": [
    "basis_size = 20\n",
    "test_hbarw0 = 1\n",
    "\n",
    "lambda_g = [0, 0, 0]\n",
    "lambda_e = displaced_lambdas([0, 0, 0], 1.6)\n",
    "test_Hg = ham_g(basis_size, lambda_g)*test_hbarw0\n",
    "test_He = ham_g(basis_size, lambda_e)*test_hbarw0\n",
    "\n",
    "# test_T = .3*test_hbarw0/k\n",
    "test_T = 0.00001\n",
    "test_D = gap_fluc_op(basis_size, lambda_g, lambda_e, test_T)*test_hbarw0\n",
    "test_A = a_matrix(test_He, test_D, order=4)\n",
    "test_rho = rho_e(test_He, test_T)\n",
    "\n",
    "# test_hbar_omegas = np.linspace(-100, 100, 100)\n",
    "# test_lineshape = flu_lineshape(\n",
    "#     omega=test_hbar_omegas/hbar, \n",
    "#     gamma=.8/hbar, \n",
    "#     H_e=test_He,\n",
    "#     rho_ex=test_rho,\n",
    "#     A=test_A,\n",
    "#     t_max=.5,\n",
    "#     t_points=100,\n",
    "# #     return_integrand=True\n",
    "#     )\n",
    "\n",
    "test_hbar_omegas = np.linspace(-5, 10, 3)\n",
    "test_lineshape_integrand = flu_lineshape(\n",
    "    omega=test_hbar_omegas/hbar, \n",
    "    gamma=.18/hbar, \n",
    "    H_e=test_He,\n",
    "    rho_ex=test_rho,\n",
    "    A=test_A,\n",
    "    t_max=20,\n",
    "    t_points=1000,\n",
    "    return_integrand=True\n",
    "    )"
   ]
  },
  {
   "cell_type": "code",
   "execution_count": 413,
   "metadata": {},
   "outputs": [
    {
     "data": {
      "text/plain": [
       "array([ 1.28, -1.6 ,  0.  ])"
      ]
     },
     "execution_count": 413,
     "metadata": {},
     "output_type": "execute_result"
    }
   ],
   "source": [
    "lambda_e"
   ]
  },
  {
   "cell_type": "code",
   "execution_count": 414,
   "metadata": {},
   "outputs": [
    {
     "data": {
      "image/png": "[encoded data removed]",
      "text/plain": [
       "<Figure size 675x506.25 with 1 Axes>"
      ]
     },
     "metadata": {
      "needs_background": "light"
     },
     "output_type": "display_data"
    }
   ],
   "source": [
    "ts, integrands = test_lineshape_integrand\n",
    "for integ in integrands:\n",
    "    plt.plot(ts, integ)"
   ]
  },
  {
   "cell_type": "markdown",
   "metadata": {},
   "source": [
    "Plot B2 to compare to Mukamel model "
   ]
  },
  {
   "cell_type": "code",
   "execution_count": 415,
   "metadata": {},
   "outputs": [],
   "source": [
    "k2 = big_b_tilde(\n",
    "    ts, \n",
    "    order_n=2, \n",
    "    H_e=test_He, \n",
    "    rho_ex=test_rho, \n",
    "    A=test_A,\n",
    "#     e_At=None,\n",
    "#     return_e_At_in_dict=True\n",
    "    )"
   ]
  },
  {
   "cell_type": "code",
   "execution_count": 416,
   "metadata": {},
   "outputs": [
    {
     "data": {
      "text/plain": [
       "<matplotlib.legend.Legend at 0x1526d00f98>"
      ]
     },
     "execution_count": 416,
     "metadata": {},
     "output_type": "execute_result"
    },
    {
     "data": {
      "image/png": "[encoded data removed]",
      "text/plain": [
       "<Figure size 675x506.25 with 1 Axes>"
      ]
     },
     "metadata": {
      "needs_background": "light"
     },
     "output_type": "display_data"
    }
   ],
   "source": [
    "# plt.plot(ts, np.real(k2), label='Re[g]')\n",
    "plt.plot(ts, np.imag(k2), label='Im[g]')\n",
    "plt.legend()"
   ]
  },
  {
   "cell_type": "code",
   "execution_count": 418,
   "metadata": {},
   "outputs": [
    {
     "data": {
      "text/plain": [
       "<matplotlib.colorbar.Colorbar at 0x15288ebf60>"
      ]
     },
     "execution_count": 418,
     "metadata": {},
     "output_type": "execute_result"
    },
    {
     "data": {
      "image/png": "[encoded data removed]",
      "text/plain": [
       "<Figure size 675x506.25 with 3 Axes>"
      ]
     },
     "metadata": {
      "needs_background": "light"
     },
     "output_type": "display_data"
    }
   ],
   "source": [
    "fig, axs = plt.subplots(1, 2)\n",
    "\n",
    "im =axs[0].imshow(np.real(test_A), origin='upper')\n",
    "clim=im.properties()['clim']\n",
    "axs[1].imshow(np.imag(test_A), clim=clim, origin='upper')\n",
    "\n",
    "fig.colorbar(im, ax=axs.ravel().tolist(), shrink=0.5)"
   ]
  },
  {
   "cell_type": "code",
   "execution_count": 419,
   "metadata": {},
   "outputs": [
    {
     "data": {
      "text/plain": [
       "<matplotlib.colorbar.Colorbar at 0x15297b9550>"
      ]
     },
     "execution_count": 419,
     "metadata": {},
     "output_type": "execute_result"
    },
    {
     "data": {
      "image/png": "[encoded data removed]",
      "text/plain": [
       "<Figure size 675x506.25 with 2 Axes>"
      ]
     },
     "metadata": {
      "needs_background": "light"
     },
     "output_type": "display_data"
    }
   ],
   "source": [
    "plt.imshow(test_He, origin='upper')\n",
    "plt.colorbar()"
   ]
  },
  {
   "cell_type": "code",
   "execution_count": 420,
   "metadata": {},
   "outputs": [
    {
     "data": {
      "text/plain": [
       "<matplotlib.colorbar.Colorbar at 0x152985d7b8>"
      ]
     },
     "execution_count": 420,
     "metadata": {},
     "output_type": "execute_result"
    },
    {
     "data": {
      "image/png": "[encoded data removed]",
      "text/plain": [
       "<Figure size 675x506.25 with 3 Axes>"
      ]
     },
     "metadata": {
      "needs_background": "light"
     },
     "output_type": "display_data"
    }
   ],
   "source": [
    "fig, axs = plt.subplots(1, 2)\n",
    "\n",
    "im =axs[0].imshow(np.imag(test_A), origin='upper')\n",
    "clim=im.properties()['clim']\n",
    "axs[1].imshow(np.real(test_A), clim=clim, origin='upper')\n",
    "\n",
    "fig.colorbar(im, ax=axs.ravel().tolist(), shrink=0.5)"
   ]
  },
  {
   "cell_type": "code",
   "execution_count": null,
   "metadata": {},
   "outputs": [],
   "source": []
  },
  {
   "cell_type": "code",
   "execution_count": 421,
   "metadata": {},
   "outputs": [
    {
     "name": "stderr",
     "output_type": "stream",
     "text": [
      "/Users/chair/anaconda/envs/py36/lib/python3.6/site-packages/ipykernel_launcher.py:6: RuntimeWarning: invalid value encountered in multiply\n",
      "  \n"
     ]
    },
    {
     "data": {
      "text/plain": [
       "False"
      ]
     },
     "execution_count": 421,
     "metadata": {},
     "output_type": "execute_result"
    }
   ],
   "source": [
    "test_tay_expm = taylor_expm(test_A, 200)\n",
    "test_lin_expm = lin.expm(test_A)\n",
    "np.allclose(test_tay_expm, test_lin_expm)"
   ]
  },
  {
   "cell_type": "code",
   "execution_count": 422,
   "metadata": {},
   "outputs": [
    {
     "data": {
      "text/plain": [
       "False"
      ]
     },
     "execution_count": 422,
     "metadata": {},
     "output_type": "execute_result"
    }
   ],
   "source": [
    "test_tay_expm = taylor_expm(test_A*1e-15, 100)\n",
    "test_lin_expm = lin.expm(test_A*1e-15)\n",
    "np.allclose(test_tay_expm, test_lin_expm)"
   ]
  },
  {
   "cell_type": "code",
   "execution_count": 423,
   "metadata": {},
   "outputs": [
    {
     "name": "stderr",
     "output_type": "stream",
     "text": [
      "/Users/chair/anaconda/envs/py36/lib/python3.6/site-packages/ipykernel_launcher.py:6: RuntimeWarning: invalid value encountered in multiply\n",
      "  \n"
     ]
    },
    {
     "data": {
      "text/plain": [
       "False"
      ]
     },
     "execution_count": 423,
     "metadata": {},
     "output_type": "execute_result"
    }
   ],
   "source": [
    "test_tay_expm = taylor_expm(test_A*1e-15/hbar, 100)\n",
    "test_lin_expm = lin.expm(test_A*1e-15/hbar)\n",
    "np.allclose(test_tay_expm, test_lin_expm)"
   ]
  },
  {
   "cell_type": "markdown",
   "metadata": {},
   "source": [
    "So the exponential is computed correctly as long as A is order 1e-15"
   ]
  },
  {
   "cell_type": "markdown",
   "metadata": {},
   "source": [
    "##### Check that A is symmetric about the antidiagonal"
   ]
  },
  {
   "cell_type": "code",
   "execution_count": 424,
   "metadata": {},
   "outputs": [
    {
     "data": {
      "text/plain": [
       "True"
      ]
     },
     "execution_count": 424,
     "metadata": {},
     "output_type": "execute_result"
    }
   ],
   "source": [
    "np.allclose(\n",
    "    lin.expm(test_A*1e-15)[0:20, 40:60],\n",
    "    lin.expm(test_A*1e-15)[0:20, 60:],\n",
    "    )"
   ]
  },
  {
   "cell_type": "code",
   "execution_count": 425,
   "metadata": {},
   "outputs": [
    {
     "data": {
      "text/plain": [
       "True"
      ]
     },
     "execution_count": 425,
     "metadata": {},
     "output_type": "execute_result"
    }
   ],
   "source": [
    "test_tay_expm = taylor_expm(test_He, 60)\n",
    "test_lin_expm = lin.expm(test_He)\n",
    "np.allclose(test_tay_expm, test_lin_expm)"
   ]
  },
  {
   "cell_type": "markdown",
   "metadata": {},
   "source": [
    "### Compute block of A directly "
   ]
  },
  {
   "cell_type": "markdown",
   "metadata": {},
   "source": [
    "\\begin{equation}\n",
    "\\int_0^{t} \\mathrm{d}t_1 \\int_0^{t_1} \\mathrm{d}t_2\n",
    "e^{-i \\mathbf{H_g}(t-t_1)}\n",
    "\\boldsymbol{\\Delta}\n",
    "e^{-i \\mathbf{H_g}(t_1-t_2)}\n",
    "\\boldsymbol{\\Delta}\n",
    "e^{-i \\mathbf{H_g}t_2}\n",
    "\\end{equation}"
   ]
  },
  {
   "cell_type": "code",
   "execution_count": 426,
   "metadata": {},
   "outputs": [],
   "source": [
    "def k2_integrand(he, delta, t2, t1, t):\n",
    "    ## reshape matricies to (t, t1, t2, nxn)\n",
    "#     he = he[None, None, None, :]\n",
    "    delta = delta[None, None, None, :]\n",
    "#     t2 = t2[None, None, :, None, None]\n",
    "#     t1 = t1[None, :, None, None, None]\n",
    "#     t = t[:, None, None, None, None]\n",
    "    \n",
    "    ## Compute first matrix exponential\n",
    "#     exp1_arg = - he * (t - t1)\n",
    "    exp1 = np.zeros((len(t), len(t1), len(t2))+he.shape, dtype='complex')\n",
    "    exp2 = np.zeros_like(exp1, dtype='complex')\n",
    "    exp3 = np.zeros_like(exp1, dtype='complex')\n",
    "\n",
    "    for i_t in range(t.shape[0]):\n",
    "        for i_t1 in range(t1.shape[0]):\n",
    "            for i_t2 in range(t2.shape[0]):\n",
    "                if (t[i_t] - t1[i_t1]) < 0 or (t1[i_t1] - t2[i_t2]) < 0:\n",
    "                    exp1[i_t, i_t1, i_t2, ...] = 0\n",
    "                    exp2[i_t, i_t1, i_t2, ...] = 0\n",
    "                    exp3[i_t, i_t1, i_t2, ...] = 0\n",
    "                    continue\n",
    "                else:\n",
    "                    exp1[i_t, i_t1, i_t2, ...] = lin.expm(\n",
    "                        - 1j*he * (t[i_t] - t1[i_t1]))\n",
    "                    exp2[i_t, i_t1, i_t2, ...] = lin.expm(\n",
    "                        - 1j*he * (t1[i_t1] - t2[i_t2]))\n",
    "                    exp3[i_t, i_t1, i_t2, ...] = lin.expm(\n",
    "                        - 1j*he * t2[i_t2])\n",
    "\n",
    "    integrand = exp1@delta@exp2@delta@exp3\n",
    "    \n",
    "    return integrand\n",
    "        "
   ]
  },
  {
   "cell_type": "code",
   "execution_count": 427,
   "metadata": {},
   "outputs": [],
   "source": [
    "_ts = np.linspace(0, 2, 10)*1e-15"
   ]
  },
  {
   "cell_type": "code",
   "execution_count": 428,
   "metadata": {},
   "outputs": [],
   "source": [
    "_integrand = k2_integrand(he=test_He, delta=test_D, t2=_ts, t1=_ts, t=_ts)"
   ]
  },
  {
   "cell_type": "code",
   "execution_count": 429,
   "metadata": {},
   "outputs": [
    {
     "data": {
      "text/plain": [
       "(10, 10, 10, 20, 20)"
      ]
     },
     "execution_count": 429,
     "metadata": {},
     "output_type": "execute_result"
    }
   ],
   "source": [
    "_integrand.shape"
   ]
  },
  {
   "cell_type": "code",
   "execution_count": 430,
   "metadata": {},
   "outputs": [],
   "source": [
    "# integrand_diff_to_plot = (\n",
    "#     _integrand[0, 0, 1, :, :]\n",
    "#     -\n",
    "#     _integrand[0, 0, 0, :, :]\n",
    "#     )\n",
    "\n",
    "\n",
    "# fig, axs = plt.subplots(1, 2)\n",
    "\n",
    "# im =axs[0].imshow(np.real(integrand_diff_to_plot), origin='upper')\n",
    "# clim=im.properties()['clim']\n",
    "# axs[1].imshow(np.imag(integrand_diff_to_plot), clim=clim, origin='upper')\n",
    "\n",
    "# fig.colorbar(im, ax=axs.ravel().tolist(), shrink=0.5)"
   ]
  },
  {
   "cell_type": "markdown",
   "metadata": {},
   "source": [
    "Need to set integrand to zero if not t > t1 > t2"
   ]
  },
  {
   "cell_type": "code",
   "execution_count": 431,
   "metadata": {},
   "outputs": [],
   "source": [
    "t2_integral = inte.trapz(_integrand, _ts, axis=-3)\n",
    "t1_integral = inte.trapz(t2_integral, _ts, axis=-3)"
   ]
  },
  {
   "cell_type": "code",
   "execution_count": 432,
   "metadata": {},
   "outputs": [
    {
     "data": {
      "text/plain": [
       "(10, 20, 20)"
      ]
     },
     "execution_count": 432,
     "metadata": {},
     "output_type": "execute_result"
    }
   ],
   "source": [
    "t1_integral.shape"
   ]
  },
  {
   "cell_type": "code",
   "execution_count": 433,
   "metadata": {},
   "outputs": [],
   "source": [
    "_k2 = 1/hbar**2 * np.trace(\n",
    "    loopy_expm(1j*test_He[None, :]*_ts[:,None, None])\n",
    "    @\n",
    "    t1_integral\n",
    "    @\n",
    "    test_rho[None, :],\n",
    "    axis1=-1,\n",
    "    axis2=-2,\n",
    "    )"
   ]
  },
  {
   "cell_type": "code",
   "execution_count": 434,
   "metadata": {},
   "outputs": [
    {
     "data": {
      "text/plain": [
       "<matplotlib.legend.Legend at 0x1527659c18>"
      ]
     },
     "execution_count": 434,
     "metadata": {},
     "output_type": "execute_result"
    },
    {
     "data": {
      "image/png": "[encoded data removed]",
      "text/plain": [
       "<Figure size 675x506.25 with 2 Axes>"
      ]
     },
     "metadata": {
      "needs_background": "light"
     },
     "output_type": "display_data"
    }
   ],
   "source": [
    "fig, axs = plt.subplots(2, 1, sharex='all')\n",
    "\n",
    "axs[0].plot(_ts, -np.real(_k2), c='C0', label='-Re[k2] manual')\n",
    "axs[1].plot(_ts, -np.imag(_k2), c='C1', label='-Im[k2] manual')\n",
    "\n",
    "axs[0].plot(ts, np.real(k2), ls ='--', c='C0', label='Re[k2] mat theorm')\n",
    "axs[1].plot(ts, np.imag(k2), ls ='--', c='C1', label='Im[k2] mat theorm')\n",
    "\n",
    "axs[0].legend()\n",
    "axs[1].legend()"
   ]
  },
  {
   "cell_type": "code",
   "execution_count": null,
   "metadata": {},
   "outputs": [],
   "source": []
  },
  {
   "cell_type": "markdown",
   "metadata": {},
   "source": [
    "Now that I have a vbersion of the manual integral that matches the mat. theorm implementation, I can start trying to fix the uits and see what happens\n",
    "\n",
    "\n"
   ]
  },
  {
   "cell_type": "code",
   "execution_count": 435,
   "metadata": {},
   "outputs": [],
   "source": [
    "def k2_integrand_uni(he, delta, t2, t1, t):\n",
    "    ## reshape matricies to (t, t1, t2, nxn)\n",
    "#     he = he[None, None, None, :]\n",
    "    delta = delta[None, None, None, :]\n",
    "#     t2 = t2[None, None, :, None, None]\n",
    "#     t1 = t1[None, :, None, None, None]\n",
    "#     t = t[:, None, None, None, None]\n",
    "    \n",
    "    ## Compute first matrix exponential\n",
    "#     exp1_arg = - he * (t - t1)\n",
    "    exp1 = np.zeros((len(t), len(t1), len(t2))+he.shape, dtype='complex')\n",
    "    exp2 = np.zeros_like(exp1, dtype='complex')\n",
    "    exp3 = np.zeros_like(exp1, dtype='complex')\n",
    "\n",
    "    for i_t in range(t.shape[0]):\n",
    "        for i_t1 in range(t1.shape[0]):\n",
    "            for i_t2 in range(t2.shape[0]):\n",
    "                if (t[i_t] - t1[i_t1]) < 0 or (t1[i_t1] - t2[i_t2]) < 0:\n",
    "                    exp1[i_t, i_t1, i_t2, ...] = 0\n",
    "                    exp2[i_t, i_t1, i_t2, ...] = 0\n",
    "                    exp3[i_t, i_t1, i_t2, ...] = 0\n",
    "                    continue\n",
    "                else:\n",
    "                    exp1[i_t, i_t1, i_t2, ...] = lin.expm(\n",
    "                        - 1j*he/hbar * (t[i_t] - t1[i_t1]))\n",
    "                    exp2[i_t, i_t1, i_t2, ...] = lin.expm(\n",
    "                        - 1j*he/hbar * (t1[i_t1] - t2[i_t2]))\n",
    "                    exp3[i_t, i_t1, i_t2, ...] = lin.expm(\n",
    "                        - 1j*he/hbar * t2[i_t2])\n",
    "\n",
    "    integrand = exp1@delta@exp2@delta@exp3\n",
    "    \n",
    "    return integrand\n",
    "        "
   ]
  },
  {
   "cell_type": "code",
   "execution_count": 436,
   "metadata": {},
   "outputs": [],
   "source": [
    "_ts = np.linspace(0, 2, 50)*1e-15"
   ]
  },
  {
   "cell_type": "code",
   "execution_count": 437,
   "metadata": {},
   "outputs": [],
   "source": [
    "_integrand_uni = k2_integrand_uni(he=test_He, delta=test_D, t2=_ts, t1=_ts, t=_ts)"
   ]
  },
  {
   "cell_type": "markdown",
   "metadata": {},
   "source": [
    "Need to set integrand to zero if not t > t1 > t2"
   ]
  },
  {
   "cell_type": "code",
   "execution_count": 438,
   "metadata": {},
   "outputs": [],
   "source": [
    "t2_integral_uni = inte.trapz(_integrand_uni, _ts, axis=-3)\n",
    "t1_integral_uni = inte.trapz(t2_integral_uni, _ts, axis=-3)"
   ]
  },
  {
   "cell_type": "code",
   "execution_count": 439,
   "metadata": {},
   "outputs": [],
   "source": [
    "_k2_uni = 1/hbar**2 * np.trace(\n",
    "    loopy_expm(1j*test_He[None, :]/hbar*_ts[:,None, None])\n",
    "    @\n",
    "    t1_integral_uni\n",
    "    @\n",
    "    test_rho[None, :],\n",
    "    axis1=-1,\n",
    "    axis2=-2,\n",
    "    )"
   ]
  },
  {
   "cell_type": "code",
   "execution_count": 440,
   "metadata": {},
   "outputs": [
    {
     "data": {
      "text/plain": [
       "<matplotlib.legend.Legend at 0x152b037320>"
      ]
     },
     "execution_count": 440,
     "metadata": {},
     "output_type": "execute_result"
    },
    {
     "data": {
      "image/png": "[encoded data removed]",
      "text/plain": [
       "<Figure size 675x506.25 with 2 Axes>"
      ]
     },
     "metadata": {
      "needs_background": "light"
     },
     "output_type": "display_data"
    }
   ],
   "source": [
    "fig, axs = plt.subplots(2, 1, sharex='all')\n",
    "\n",
    "axs[0].plot(_ts, -np.real(_k2_uni), c='C0', label='-Re[k2] manual w/hbar')\n",
    "axs[1].plot(_ts, -np.imag(_k2_uni), c='C1', label='-Im[k2] manual w/hbar')\n",
    "\n",
    "axs[0].plot(ts, np.real(k2), ls ='--', c='C0', label='Re[k2] mat theorm')\n",
    "axs[1].plot(ts, np.imag(k2), ls ='--', c='C1', label='Im[k2] mat theorm')\n",
    "\n",
    "axs[0].legend()\n",
    "axs[1].legend()"
   ]
  },
  {
   "cell_type": "code",
   "execution_count": null,
   "metadata": {},
   "outputs": [],
   "source": []
  },
  {
   "cell_type": "code",
   "execution_count": null,
   "metadata": {},
   "outputs": [],
   "source": []
  },
  {
   "cell_type": "markdown",
   "metadata": {},
   "source": []
  },
  {
   "cell_type": "code",
   "execution_count": null,
   "metadata": {},
   "outputs": [],
   "source": []
  },
  {
   "cell_type": "code",
   "execution_count": null,
   "metadata": {},
   "outputs": [],
   "source": []
  },
  {
   "cell_type": "code",
   "execution_count": null,
   "metadata": {},
   "outputs": [],
   "source": []
  },
  {
   "cell_type": "code",
   "execution_count": 357,
   "metadata": {},
   "outputs": [
    {
     "data": {
      "text/plain": [
       "Text(0, 0.5, 'Emission Lineshape [a.u.]')"
      ]
     },
     "execution_count": 357,
     "metadata": {},
     "output_type": "execute_result"
    },
    {
     "data": {
      "image/png": "[encoded data removed]",
      "text/plain": [
       "<Figure size 675x506.25 with 1 Axes>"
      ]
     },
     "metadata": {
      "needs_background": "light"
     },
     "output_type": "display_data"
    }
   ],
   "source": [
    "test_hbar_omegas = np.linspace(-50, 50, 200)\n",
    "\n",
    "test_lineshape = flu_lineshape(\n",
    "    omega=test_hbar_omegas/hbar, \n",
    "    gamma=.18/hbar, \n",
    "    H_e=test_He,\n",
    "    rho_ex=test_rho,\n",
    "    A=test_A,\n",
    "    t_max=20,\n",
    "    t_points=666,\n",
    "#     return_integrand=True\n",
    "    )\n",
    "\n",
    "plt.plot(test_hbar_omegas, test_lineshape, label='Matrix Exponential Method (Anda)')\n",
    "plt.xlabel(r'$\\frac{\\omega - \\omega_{eg}}{\\omega_0}$', fontsize=10)\n",
    "plt.legend()\n",
    "plt.ylabel(r'Emission Lineshape [a.u.]', fontsize=10)"
   ]
  },
  {
   "cell_type": "code",
   "execution_count": 21,
   "metadata": {},
   "outputs": [
    {
     "ename": "ValueError",
     "evalue": "shapes (1,20,20) and (1,0,20) not aligned: 20 (dim 2) != 0 (dim 1)",
     "output_type": "error",
     "traceback": [
      "\u001b[0;31m---------------------------------------------------------------------------\u001b[0m",
      "\u001b[0;31mValueError\u001b[0m                                Traceback (most recent call last)",
      "\u001b[0;32m<ipython-input-21-feed9fffddb4>\u001b[0m in \u001b[0;36m<module>\u001b[0;34m\u001b[0m\n\u001b[1;32m     20\u001b[0m     \u001b[0mrho_ex\u001b[0m\u001b[0;34m=\u001b[0m\u001b[0mtest_rho\u001b[0m\u001b[0;34m,\u001b[0m\u001b[0;34m\u001b[0m\u001b[0;34m\u001b[0m\u001b[0m\n\u001b[1;32m     21\u001b[0m     \u001b[0mA\u001b[0m\u001b[0;34m=\u001b[0m\u001b[0mtest_A\u001b[0m\u001b[0;34m,\u001b[0m\u001b[0;34m\u001b[0m\u001b[0;34m\u001b[0m\u001b[0m\n\u001b[0;32m---> 22\u001b[0;31m     \u001b[0me_At\u001b[0m\u001b[0;34m=\u001b[0m\u001b[0;32mNone\u001b[0m\u001b[0;34m,\u001b[0m\u001b[0;34m\u001b[0m\u001b[0;34m\u001b[0m\u001b[0m\n\u001b[0m\u001b[1;32m     23\u001b[0m \u001b[0;31m#     return_e_At_in_dict=True,\u001b[0m\u001b[0;34m\u001b[0m\u001b[0;34m\u001b[0m\u001b[0;34m\u001b[0m\u001b[0m\n\u001b[1;32m     24\u001b[0m     )\n",
      "\u001b[0;32m<ipython-input-14-89fb04e614db>\u001b[0m in \u001b[0;36mbig_b_tilde\u001b[0;34m(t, order_n, H_e, rho_ex, A, e_At, return_e_At_in_dict)\u001b[0m\n\u001b[1;32m     55\u001b[0m             \u001b[0;34m(\u001b[0m\u001b[0mN\u001b[0m\u001b[0;34m-\u001b[0m\u001b[0;36m1\u001b[0m\u001b[0;34m)\u001b[0m\u001b[0;34m*\u001b[0m\u001b[0mblock_size\u001b[0m\u001b[0;34m:\u001b[0m\u001b[0;34m\u001b[0m\u001b[0;34m\u001b[0m\u001b[0m\n\u001b[1;32m     56\u001b[0m             ]\n\u001b[0;32m---> 57\u001b[0;31m         \u001b[0;34m@\u001b[0m\u001b[0;34m\u001b[0m\u001b[0;34m\u001b[0m\u001b[0m\n\u001b[0m\u001b[1;32m     58\u001b[0m         \u001b[0mrho_ex\u001b[0m\u001b[0;34m\u001b[0m\u001b[0;34m\u001b[0m\u001b[0m\n\u001b[1;32m     59\u001b[0m         )\n",
      "\u001b[0;31mValueError\u001b[0m: shapes (1,20,20) and (1,0,20) not aligned: 20 (dim 2) != 0 (dim 1)"
     ]
    }
   ],
   "source": [
    "# tt = np.array([0.00000000e+00, 5.05050505e-17, 1.01010101e-16, 1.51515152e-16])\n",
    "tt = np.array([1.51515152e-16])\n",
    "\n",
    "# tt = 1.51515152e-16\n",
    "\n",
    "b2 =big_b_tilde(\n",
    "    t=tt,\n",
    "    order_n=2, \n",
    "    H_e=test_He, \n",
    "    rho_ex=test_rho, \n",
    "    A=test_A, \n",
    "    e_At=None, \n",
    "#     return_e_At_in_dict=True,\n",
    "    )\n",
    "\n",
    "b3 =big_b_tilde(\n",
    "    t=tt,\n",
    "    order_n=3, \n",
    "    H_e=test_He, \n",
    "    rho_ex=test_rho, \n",
    "    A=test_A, \n",
    "    e_At=None, \n",
    "#     return_e_At_in_dict=True,\n",
    "    )\n",
    "\n",
    "print(f\"exp_arg = {b3 + b2}\" )\n",
    "\n",
    "np.real(np.exp(\n",
    "    (-1j*0/hbar - .18/hbar)*tt\n",
    "    +\n",
    "    b3 + b2) )"
   ]
  },
  {
   "cell_type": "code",
   "execution_count": null,
   "metadata": {},
   "outputs": [],
   "source": [
    "test_t = np.array([1.51515152e-16])\n",
    "_test_H_e = test_He[None, ...]\n",
    "_test_t = test_t[:, None, None]\n",
    "_test_A = test_A[None, ...]\n",
    "test_eigy_expm_eAT = eigy_expm(_test_A*_test_t)\n",
    "test_eigy_expm_eAT[0].shape"
   ]
  },
  {
   "cell_type": "code",
   "execution_count": null,
   "metadata": {},
   "outputs": [],
   "source": [
    "exp_func = lin.expm\n",
    "test_e_At = lin.expm(test_A*test_t[0])\n",
    "test_e_At.shape"
   ]
  },
  {
   "cell_type": "code",
   "execution_count": null,
   "metadata": {},
   "outputs": [],
   "source": [
    "np.allclose(test_eigy_expm_eAT[0], test_e_At)"
   ]
  },
  {
   "cell_type": "code",
   "execution_count": null,
   "metadata": {},
   "outputs": [],
   "source": [
    "np.allclose((_test_A*test_t)[0], test_A*test_t[0])"
   ]
  },
  {
   "cell_type": "code",
   "execution_count": null,
   "metadata": {},
   "outputs": [],
   "source": []
  },
  {
   "cell_type": "code",
   "execution_count": null,
   "metadata": {},
   "outputs": [],
   "source": []
  },
  {
   "cell_type": "code",
   "execution_count": null,
   "metadata": {},
   "outputs": [],
   "source": [
    "(test_He[None, ...]*tt[:, None, None]).shape"
   ]
  },
  {
   "cell_type": "code",
   "execution_count": null,
   "metadata": {},
   "outputs": [],
   "source": [
    "eigy_expm((test_He[None, ...]*tt[:, None, None])).shape"
   ]
  },
  {
   "cell_type": "code",
   "execution_count": null,
   "metadata": {},
   "outputs": [],
   "source": []
  },
  {
   "cell_type": "code",
   "execution_count": null,
   "metadata": {},
   "outputs": [],
   "source": [
    "np.all(eigy_expm(test_He) == eigy_expm(test_He[None, ...]))"
   ]
  },
  {
   "cell_type": "code",
   "execution_count": null,
   "metadata": {},
   "outputs": [],
   "source": []
  },
  {
   "cell_type": "code",
   "execution_count": null,
   "metadata": {},
   "outputs": [],
   "source": [
    "np.allclose(lin.expm(test_He), eigy_expm(test_He[None, ...]))"
   ]
  },
  {
   "cell_type": "code",
   "execution_count": null,
   "metadata": {},
   "outputs": [],
   "source": [
    "np.allclose(lin.expm(test_He*test_t[0]), eigy_expm(test_He[None, ...]*_test_t))"
   ]
  },
  {
   "cell_type": "code",
   "execution_count": null,
   "metadata": {},
   "outputs": [],
   "source": [
    "np.allclose(lin.expm(test_A*test_t[0]), eigy_expm(test_A[None, ...]*_test_t))"
   ]
  },
  {
   "cell_type": "code",
   "execution_count": null,
   "metadata": {},
   "outputs": [],
   "source": [
    "np.allclose(lin.expm(test_A), eigy_expm(test_A[None, ...])[0])"
   ]
  },
  {
   "cell_type": "code",
   "execution_count": null,
   "metadata": {},
   "outputs": [],
   "source": [
    "lin.expm(test_A).shape"
   ]
  },
  {
   "cell_type": "code",
   "execution_count": null,
   "metadata": {},
   "outputs": [],
   "source": [
    "eigy_expm(test_A[None, ...]).shape"
   ]
  },
  {
   "cell_type": "code",
   "execution_count": null,
   "metadata": {},
   "outputs": [],
   "source": [
    "test_A"
   ]
  },
  {
   "cell_type": "code",
   "execution_count": null,
   "metadata": {},
   "outputs": [],
   "source": [
    "vals, vecs = np.linalg.eig(test_A)\n",
    "np.allclose(vecs @ np.diag(vals) @ np.linalg.inv(vecs), test_A)"
   ]
  },
  {
   "cell_type": "code",
   "execution_count": null,
   "metadata": {},
   "outputs": [],
   "source": [
    "vals, vecs = np.linalg.eig(test_He)\n",
    "np.allclose(vecs @ np.diag(vals) @ np.linalg.inv(vecs), test_He)"
   ]
  },
  {
   "cell_type": "code",
   "execution_count": null,
   "metadata": {},
   "outputs": [],
   "source": [
    "vals, vecs = np.linalg.eig(test_A)\n",
    "np.allclose(np.linalg.inv(vecs)@ np.diag(vals) @ vecs , test_A)"
   ]
  },
  {
   "cell_type": "code",
   "execution_count": null,
   "metadata": {},
   "outputs": [],
   "source": [
    "plt.imshow(np.real(test_A))\n",
    "plt.colorbar()"
   ]
  },
  {
   "cell_type": "code",
   "execution_count": null,
   "metadata": {},
   "outputs": [],
   "source": [
    "plt.imshow(np.imag(test_A))\n",
    "plt.colorbar()"
   ]
  },
  {
   "cell_type": "markdown",
   "metadata": {},
   "source": [
    "# Trying to reproduce Anda's first example"
   ]
  },
  {
   "cell_type": "markdown",
   "metadata": {},
   "source": [
    "The Morse potential expanded to 12th order yields the polynomial, \n",
    "\\begin{multline}\n",
    "    0.500141 x^{2} - 0.0456629 x^{3} + 0.00243193 x^{4} - 0.000095158 x^{5} \\\\\n",
    "    + 2.99251*10^{-6} x^{6} - 7.93207*10^{-8} x^{7} + 1.82486*10^{-9} x^{8} \\\\\n",
    "    - 3.71702*10^{-11} x^{9} + 6.80059*10^{-13} x^{10} - 1.13*10^{-14} x^{11} \\\\\n",
    "    + 1.72033*10^{-16} x^{12}\n",
    "\\end{multline}"
   ]
  },
  {
   "cell_type": "code",
   "execution_count": null,
   "metadata": {},
   "outputs": [],
   "source": [
    "mor_lam_g = [\n",
    "    0,\n",
    "    0,\n",
    "    0.500141 - .5, ## to account for H_0 \n",
    "    - 0.0456629,\n",
    "    0.00243193,\n",
    "    - 0.000095158,\n",
    "    2.99251*1e-6,\n",
    "    - 7.93207*1e-8,\n",
    "    + 1.82486*1e-9,\n",
    "    - 3.71702*1e-11,\n",
    "    6.80059*1e-13,\n",
    "    - 1.13*1e-14,\n",
    "    + 1.72033*1e-16,\n",
    "    ]\n",
    "\n",
    "basis_size = 20\n",
    "hbarw0_mor = 1\n",
    "\n",
    "mor_lam_e = displaced_lambdas(mor_lam_g, 1.6)\n",
    "Hg_mor = ham_g(basis_size, mor_lam_g)*hbarw0_mor\n",
    "He_mor = ham_g(basis_size, mor_lam_e)*hbarw0_mor\n",
    "\n",
    "T_mor = .3*hbarw0_mor/k\n",
    "D_mor = gap_fluc_op(basis_size, mor_lam_g, mor_lam_e, T_mor)*hbarw0_mor\n",
    "A_mor = a_matrix(He_mor, D_mor, order=7)\n",
    "rho_mor = rho_e(He_mor, T_mor)\n",
    "\n",
    "# big_b_tilde(t=100*1e-15, order_n=6, H_e=Hg_mor, A=A_mor, rho_ex=rho_mor)\n",
    "\n",
    "hbar_omegas_mor = np.linspace(0, 10, 4)\n",
    "\n",
    "# lineshape_mor = flu_lineshape(\n",
    "#     omega=hbar_omegas_mor/hbar, \n",
    "#     gamma=.18/hbar, \n",
    "#     H_e=He_mor,\n",
    "#     rho_ex=rho_mor,\n",
    "#     A=A_mor,\n",
    "#     t_max=.8,\n",
    "#     t_points=1000,\n",
    "# #     return_integrand=True\n",
    "#     )\n",
    "lineshape_mor_integrand = flu_lineshape(\n",
    "    omega=hbar_omegas_mor/hbar, \n",
    "    gamma=.18/hbar, \n",
    "    H_e=He_mor,\n",
    "    rho_ex=rho_mor,\n",
    "    A=A_mor,\n",
    "    t_max=.13,\n",
    "    t_points=100,\n",
    "    return_integrand=True\n",
    "    )"
   ]
  },
  {
   "cell_type": "code",
   "execution_count": null,
   "metadata": {},
   "outputs": [],
   "source": [
    "ts, integrands = lineshape_mor_integrand\n",
    "for integ in integrands:\n",
    "    plt.plot(ts, integ)"
   ]
  },
  {
   "cell_type": "code",
   "execution_count": null,
   "metadata": {},
   "outputs": [],
   "source": [
    "hbar_omegas_mor = np.linspace(-5, 10, 100)\n",
    "lineshape_mor = flu_lineshape(\n",
    "    omega=hbar_omegas_mor/hbar, \n",
    "    gamma=.18/hbar, \n",
    "    H_e=He_mor,\n",
    "    rho_ex=rho_mor,\n",
    "    A=A_mor,\n",
    "    t_max=.3,\n",
    "    t_points=100,\n",
    "#     return_integrand=True\n",
    "    )"
   ]
  },
  {
   "cell_type": "code",
   "execution_count": null,
   "metadata": {},
   "outputs": [],
   "source": [
    "plt.plot(hbar_omegas_mor, lineshape_mor)"
   ]
  },
  {
   "cell_type": "code",
   "execution_count": null,
   "metadata": {},
   "outputs": [],
   "source": []
  }
 ],
 "metadata": {
  "kernelspec": {
   "display_name": "Python [conda env:py36] *",
   "language": "python",
   "name": "conda-env-py36-py"
  },
  "language_info": {
   "codemirror_mode": {
    "name": "ipython",
    "version": 3
   },
   "file_extension": ".py",
   "mimetype": "text/x-python",
   "name": "python",
   "nbconvert_exporter": "python",
   "pygments_lexer": "ipython3",
   "version": "3.6.7"
  }
 },
 "nbformat": 4,
 "nbformat_minor": 4
}
